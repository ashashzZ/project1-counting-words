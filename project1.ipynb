{
 "cells": [
  {
   "cell_type": "markdown",
   "metadata": {},
   "source": [
    "# Project 1: Counting words in college subreddits"
   ]
  },
  {
   "cell_type": "markdown",
   "metadata": {},
   "source": [
    "Due 9/16. Reminder that you are allowed to use any amount of AI assistance or outside resources with citation"
   ]
  },
  {
   "cell_type": "markdown",
   "metadata": {},
   "source": [
    "## Part 1: word counting and bag of words"
   ]
  },
  {
   "cell_type": "code",
   "execution_count": 119,
   "metadata": {},
   "outputs": [
    {
     "name": "stdout",
     "output_type": "stream",
     "text": [
      "Requirement already satisfied: spacy in /Users/ashash/anaconda3/envs/is310/lib/python3.9/site-packages (3.7.6)\n",
      "Requirement already satisfied: spacy-legacy<3.1.0,>=3.0.11 in /Users/ashash/anaconda3/envs/is310/lib/python3.9/site-packages (from spacy) (3.0.12)\n",
      "Requirement already satisfied: spacy-loggers<2.0.0,>=1.0.0 in /Users/ashash/anaconda3/envs/is310/lib/python3.9/site-packages (from spacy) (1.0.5)\n",
      "Requirement already satisfied: murmurhash<1.1.0,>=0.28.0 in /Users/ashash/anaconda3/envs/is310/lib/python3.9/site-packages (from spacy) (1.0.10)\n",
      "Requirement already satisfied: cymem<2.1.0,>=2.0.2 in /Users/ashash/anaconda3/envs/is310/lib/python3.9/site-packages (from spacy) (2.0.8)\n",
      "Requirement already satisfied: preshed<3.1.0,>=3.0.2 in /Users/ashash/anaconda3/envs/is310/lib/python3.9/site-packages (from spacy) (3.0.9)\n",
      "Requirement already satisfied: thinc<8.3.0,>=8.2.2 in /Users/ashash/anaconda3/envs/is310/lib/python3.9/site-packages (from spacy) (8.2.5)\n",
      "Requirement already satisfied: wasabi<1.2.0,>=0.9.1 in /Users/ashash/anaconda3/envs/is310/lib/python3.9/site-packages (from spacy) (1.1.3)\n",
      "Requirement already satisfied: srsly<3.0.0,>=2.4.3 in /Users/ashash/anaconda3/envs/is310/lib/python3.9/site-packages (from spacy) (2.4.8)\n",
      "Requirement already satisfied: catalogue<2.1.0,>=2.0.6 in /Users/ashash/anaconda3/envs/is310/lib/python3.9/site-packages (from spacy) (2.0.10)\n",
      "Requirement already satisfied: weasel<0.5.0,>=0.1.0 in /Users/ashash/anaconda3/envs/is310/lib/python3.9/site-packages (from spacy) (0.4.1)\n",
      "Requirement already satisfied: typer<1.0.0,>=0.3.0 in /Users/ashash/anaconda3/envs/is310/lib/python3.9/site-packages (from spacy) (0.12.5)\n",
      "Requirement already satisfied: tqdm<5.0.0,>=4.38.0 in /Users/ashash/anaconda3/envs/is310/lib/python3.9/site-packages (from spacy) (4.66.5)\n",
      "Requirement already satisfied: requests<3.0.0,>=2.13.0 in /Users/ashash/anaconda3/envs/is310/lib/python3.9/site-packages (from spacy) (2.32.3)\n",
      "Requirement already satisfied: pydantic!=1.8,!=1.8.1,<3.0.0,>=1.7.4 in /Users/ashash/anaconda3/envs/is310/lib/python3.9/site-packages (from spacy) (2.9.1)\n",
      "Requirement already satisfied: jinja2 in /Users/ashash/anaconda3/envs/is310/lib/python3.9/site-packages (from spacy) (3.1.4)\n",
      "Requirement already satisfied: setuptools in /Users/ashash/anaconda3/envs/is310/lib/python3.9/site-packages (from spacy) (72.1.0)\n",
      "Requirement already satisfied: packaging>=20.0 in /Users/ashash/anaconda3/envs/is310/lib/python3.9/site-packages (from spacy) (24.1)\n",
      "Requirement already satisfied: langcodes<4.0.0,>=3.2.0 in /Users/ashash/anaconda3/envs/is310/lib/python3.9/site-packages (from spacy) (3.4.0)\n",
      "Requirement already satisfied: numpy>=1.19.0 in /Users/ashash/anaconda3/envs/is310/lib/python3.9/site-packages (from spacy) (1.26.4)\n",
      "Requirement already satisfied: language-data>=1.2 in /Users/ashash/anaconda3/envs/is310/lib/python3.9/site-packages (from langcodes<4.0.0,>=3.2.0->spacy) (1.2.0)\n",
      "Requirement already satisfied: annotated-types>=0.6.0 in /Users/ashash/anaconda3/envs/is310/lib/python3.9/site-packages (from pydantic!=1.8,!=1.8.1,<3.0.0,>=1.7.4->spacy) (0.7.0)\n",
      "Requirement already satisfied: pydantic-core==2.23.3 in /Users/ashash/anaconda3/envs/is310/lib/python3.9/site-packages (from pydantic!=1.8,!=1.8.1,<3.0.0,>=1.7.4->spacy) (2.23.3)\n",
      "Requirement already satisfied: typing-extensions>=4.6.1 in /Users/ashash/anaconda3/envs/is310/lib/python3.9/site-packages (from pydantic!=1.8,!=1.8.1,<3.0.0,>=1.7.4->spacy) (4.11.0)\n",
      "Requirement already satisfied: charset-normalizer<4,>=2 in /Users/ashash/anaconda3/envs/is310/lib/python3.9/site-packages (from requests<3.0.0,>=2.13.0->spacy) (3.3.2)\n",
      "Requirement already satisfied: idna<4,>=2.5 in /Users/ashash/anaconda3/envs/is310/lib/python3.9/site-packages (from requests<3.0.0,>=2.13.0->spacy) (3.7)\n",
      "Requirement already satisfied: urllib3<3,>=1.21.1 in /Users/ashash/anaconda3/envs/is310/lib/python3.9/site-packages (from requests<3.0.0,>=2.13.0->spacy) (2.2.2)\n",
      "Requirement already satisfied: certifi>=2017.4.17 in /Users/ashash/anaconda3/envs/is310/lib/python3.9/site-packages (from requests<3.0.0,>=2.13.0->spacy) (2024.8.30)\n",
      "Requirement already satisfied: blis<0.8.0,>=0.7.8 in /Users/ashash/anaconda3/envs/is310/lib/python3.9/site-packages (from thinc<8.3.0,>=8.2.2->spacy) (0.7.11)\n",
      "Requirement already satisfied: confection<1.0.0,>=0.0.1 in /Users/ashash/anaconda3/envs/is310/lib/python3.9/site-packages (from thinc<8.3.0,>=8.2.2->spacy) (0.1.5)\n",
      "Requirement already satisfied: click>=8.0.0 in /Users/ashash/anaconda3/envs/is310/lib/python3.9/site-packages (from typer<1.0.0,>=0.3.0->spacy) (8.1.7)\n",
      "Requirement already satisfied: shellingham>=1.3.0 in /Users/ashash/anaconda3/envs/is310/lib/python3.9/site-packages (from typer<1.0.0,>=0.3.0->spacy) (1.5.4)\n",
      "Requirement already satisfied: rich>=10.11.0 in /Users/ashash/anaconda3/envs/is310/lib/python3.9/site-packages (from typer<1.0.0,>=0.3.0->spacy) (13.8.1)\n",
      "Requirement already satisfied: cloudpathlib<1.0.0,>=0.7.0 in /Users/ashash/anaconda3/envs/is310/lib/python3.9/site-packages (from weasel<0.5.0,>=0.1.0->spacy) (0.19.0)\n",
      "Requirement already satisfied: smart-open<8.0.0,>=5.2.1 in /Users/ashash/anaconda3/envs/is310/lib/python3.9/site-packages (from weasel<0.5.0,>=0.1.0->spacy) (5.2.1)\n",
      "Requirement already satisfied: MarkupSafe>=2.0 in /Users/ashash/anaconda3/envs/is310/lib/python3.9/site-packages (from jinja2->spacy) (2.1.3)\n",
      "Requirement already satisfied: marisa-trie>=0.7.7 in /Users/ashash/anaconda3/envs/is310/lib/python3.9/site-packages (from language-data>=1.2->langcodes<4.0.0,>=3.2.0->spacy) (1.2.0)\n",
      "Requirement already satisfied: markdown-it-py>=2.2.0 in /Users/ashash/anaconda3/envs/is310/lib/python3.9/site-packages (from rich>=10.11.0->typer<1.0.0,>=0.3.0->spacy) (3.0.0)\n",
      "Requirement already satisfied: pygments<3.0.0,>=2.13.0 in /Users/ashash/anaconda3/envs/is310/lib/python3.9/site-packages (from rich>=10.11.0->typer<1.0.0,>=0.3.0->spacy) (2.15.1)\n",
      "Requirement already satisfied: mdurl~=0.1 in /Users/ashash/anaconda3/envs/is310/lib/python3.9/site-packages (from markdown-it-py>=2.2.0->rich>=10.11.0->typer<1.0.0,>=0.3.0->spacy) (0.1.2)\n"
     ]
    }
   ],
   "source": [
    "#install spacy in the current conda environment\n",
    "!pip install spacy\n"
   ]
  },
  {
   "cell_type": "code",
   "execution_count": 120,
   "metadata": {},
   "outputs": [
    {
     "name": "stdout",
     "output_type": "stream",
     "text": [
      "^C\n",
      "Traceback (most recent call last):\n",
      "  File \"/Users/ashash/anaconda3/envs/is310/lib/python3.9/runpy.py\", line 188, in _run_module_as_main\n",
      "    mod_name, mod_spec, code = _get_module_details(mod_name, _Error)\n",
      "  File \"/Users/ashash/anaconda3/envs/is310/lib/python3.9/runpy.py\", line 147, in _get_module_details\n",
      "    return _get_module_details(pkg_main_name, error)\n",
      "  File \"/Users/ashash/anaconda3/envs/is310/lib/python3.9/runpy.py\", line 111, in _get_module_details\n",
      "    __import__(pkg_name)\n",
      "  File \"/Users/ashash/anaconda3/envs/is310/lib/python3.9/site-packages/spacy/__init__.py\", line 6, in <module>\n",
      "    from .errors import setup_default_warnings\n",
      "  File \"/Users/ashash/anaconda3/envs/is310/lib/python3.9/site-packages/spacy/errors.py\", line 3, in <module>\n",
      "    from .compat import Literal\n",
      "  File \"/Users/ashash/anaconda3/envs/is310/lib/python3.9/site-packages/spacy/compat.py\", line 4, in <module>\n",
      "    from thinc.util import copy_array\n",
      "  File \"/Users/ashash/anaconda3/envs/is310/lib/python3.9/site-packages/thinc/__init__.py\", line 5, in <module>\n",
      "    from .config import registry\n",
      "  File \"/Users/ashash/anaconda3/envs/is310/lib/python3.9/site-packages/thinc/config.py\", line 2, in <module>\n",
      "    import confection\n",
      "  File \"/Users/ashash/anaconda3/envs/is310/lib/python3.9/site-packages/confection/__init__.py\", line 38, in <module>\n",
      "    from pydantic.v1 import BaseModel, Extra, ValidationError, create_model\n",
      "  File \"<frozen importlib._bootstrap>\", line 1007, in _find_and_load\n",
      "  File \"<frozen importlib._bootstrap>\", line 986, in _find_and_load_unlocked\n",
      "  File \"<frozen importlib._bootstrap>\", line 680, in _load_unlocked\n",
      "  File \"<frozen importlib._bootstrap_external>\", line 846, in exec_module\n",
      "  File \"<frozen importlib._bootstrap_external>\", line 941, in get_code\n",
      "  File \"<frozen importlib._bootstrap_external>\", line 1040, in get_data\n",
      "KeyboardInterrupt\n"
     ]
    }
   ],
   "source": [
    "#download a small language model to help with cleaning tasks\n",
    "!python -m spacy download en_core_web_sm\n",
    "\n"
   ]
  },
  {
   "cell_type": "code",
   "execution_count": null,
   "metadata": {},
   "outputs": [
    {
     "name": "stdout",
     "output_type": "stream",
     "text": [
      "Requirement already satisfied: matplotlib in /Users/ashash/anaconda3/envs/is310/lib/python3.9/site-packages (3.9.2)\n",
      "Requirement already satisfied: contourpy>=1.0.1 in /Users/ashash/anaconda3/envs/is310/lib/python3.9/site-packages (from matplotlib) (1.3.0)\n",
      "Requirement already satisfied: cycler>=0.10 in /Users/ashash/anaconda3/envs/is310/lib/python3.9/site-packages (from matplotlib) (0.12.1)\n",
      "Requirement already satisfied: fonttools>=4.22.0 in /Users/ashash/anaconda3/envs/is310/lib/python3.9/site-packages (from matplotlib) (4.53.1)\n",
      "Requirement already satisfied: kiwisolver>=1.3.1 in /Users/ashash/anaconda3/envs/is310/lib/python3.9/site-packages (from matplotlib) (1.4.7)\n",
      "Requirement already satisfied: numpy>=1.23 in /Users/ashash/anaconda3/envs/is310/lib/python3.9/site-packages (from matplotlib) (1.26.4)\n",
      "Requirement already satisfied: packaging>=20.0 in /Users/ashash/anaconda3/envs/is310/lib/python3.9/site-packages (from matplotlib) (24.1)\n",
      "Requirement already satisfied: pillow>=8 in /Users/ashash/anaconda3/envs/is310/lib/python3.9/site-packages (from matplotlib) (10.4.0)\n",
      "Requirement already satisfied: pyparsing>=2.3.1 in /Users/ashash/anaconda3/envs/is310/lib/python3.9/site-packages (from matplotlib) (3.1.4)\n",
      "Requirement already satisfied: python-dateutil>=2.7 in /Users/ashash/anaconda3/envs/is310/lib/python3.9/site-packages (from matplotlib) (2.9.0.post0)\n",
      "Requirement already satisfied: importlib-resources>=3.2.0 in /Users/ashash/anaconda3/envs/is310/lib/python3.9/site-packages (from matplotlib) (6.4.5)\n",
      "Requirement already satisfied: zipp>=3.1.0 in /Users/ashash/anaconda3/envs/is310/lib/python3.9/site-packages (from importlib-resources>=3.2.0->matplotlib) (3.17.0)\n",
      "Requirement already satisfied: six>=1.5 in /Users/ashash/anaconda3/envs/is310/lib/python3.9/site-packages (from python-dateutil>=2.7->matplotlib) (1.16.0)\n"
     ]
    }
   ],
   "source": [
    "!pip install matplotlib"
   ]
  },
  {
   "cell_type": "code",
   "execution_count": null,
   "metadata": {},
   "outputs": [],
   "source": [
    "#import required libraries\n",
    "import pandas as pd\n",
    "from sklearn.feature_extraction.text import CountVectorizer\n",
    "import spacy\n",
    "language_model = spacy.load(\"en_core_web_sm\")\n",
    "import matplotlib.pyplot as plt\n",
    "\n",
    "import numpy as np"
   ]
  },
  {
   "cell_type": "markdown",
   "metadata": {},
   "source": [
    "### Problem 1 and example: common words in the Michigan subreddit"
   ]
  },
  {
   "cell_type": "code",
   "execution_count": null,
   "metadata": {},
   "outputs": [],
   "source": [
    "#read the data from a csv file in the folder\n",
    "mich=pd.read_csv(\"umich.csv\")"
   ]
  },
  {
   "cell_type": "code",
   "execution_count": null,
   "metadata": {},
   "outputs": [
    {
     "data": {
      "text/html": [
       "<div>\n",
       "<style scoped>\n",
       "    .dataframe tbody tr th:only-of-type {\n",
       "        vertical-align: middle;\n",
       "    }\n",
       "\n",
       "    .dataframe tbody tr th {\n",
       "        vertical-align: top;\n",
       "    }\n",
       "\n",
       "    .dataframe thead th {\n",
       "        text-align: right;\n",
       "    }\n",
       "</style>\n",
       "<table border=\"1\" class=\"dataframe\">\n",
       "  <thead>\n",
       "    <tr style=\"text-align: right;\">\n",
       "      <th></th>\n",
       "      <th>Unnamed: 0</th>\n",
       "      <th>date</th>\n",
       "      <th>post_votes</th>\n",
       "      <th>text</th>\n",
       "      <th>user</th>\n",
       "      <th>com_votes</th>\n",
       "    </tr>\n",
       "  </thead>\n",
       "  <tbody>\n",
       "    <tr>\n",
       "      <th>0</th>\n",
       "      <td>0</td>\n",
       "      <td>2024-09-04 15:33:20</td>\n",
       "      <td>2</td>\n",
       "      <td>Zingermans has a nice reuben, pretty pricey bu...</td>\n",
       "      <td>Suspicious-Bad703</td>\n",
       "      <td>2</td>\n",
       "    </tr>\n",
       "    <tr>\n",
       "      <th>1</th>\n",
       "      <td>1</td>\n",
       "      <td>2024-09-04 15:33:20</td>\n",
       "      <td>2</td>\n",
       "      <td>I really love Tomokun!</td>\n",
       "      <td>webstbre000</td>\n",
       "      <td>2</td>\n",
       "    </tr>\n",
       "    <tr>\n",
       "      <th>2</th>\n",
       "      <td>2</td>\n",
       "      <td>2024-09-04 15:33:20</td>\n",
       "      <td>2</td>\n",
       "      <td>The Seoul is pretty good I especially like the...</td>\n",
       "      <td>iaxlmao</td>\n",
       "      <td>1</td>\n",
       "    </tr>\n",
       "    <tr>\n",
       "      <th>3</th>\n",
       "      <td>3</td>\n",
       "      <td>2024-09-04 15:33:20</td>\n",
       "      <td>2</td>\n",
       "      <td>A lot of it depends on what type of food and w...</td>\n",
       "      <td>I-696</td>\n",
       "      <td>1</td>\n",
       "    </tr>\n",
       "    <tr>\n",
       "      <th>4</th>\n",
       "      <td>4</td>\n",
       "      <td>2024-09-04 14:32:17</td>\n",
       "      <td>1</td>\n",
       "      <td>You can book completely enclosed private study...</td>\n",
       "      <td>sneep_</td>\n",
       "      <td>2</td>\n",
       "    </tr>\n",
       "    <tr>\n",
       "      <th>...</th>\n",
       "      <td>...</td>\n",
       "      <td>...</td>\n",
       "      <td>...</td>\n",
       "      <td>...</td>\n",
       "      <td>...</td>\n",
       "      <td>...</td>\n",
       "    </tr>\n",
       "    <tr>\n",
       "      <th>8334</th>\n",
       "      <td>8334</td>\n",
       "      <td>2024-07-02 12:35:36</td>\n",
       "      <td>9</td>\n",
       "      <td>It isn’t a student org</td>\n",
       "      <td>Vibes_And_Smiles</td>\n",
       "      <td>1</td>\n",
       "    </tr>\n",
       "    <tr>\n",
       "      <th>8335</th>\n",
       "      <td>8335</td>\n",
       "      <td>2024-07-02 11:07:10</td>\n",
       "      <td>0</td>\n",
       "      <td>Life   \\nMatter   \\nLife's matter</td>\n",
       "      <td>tctu</td>\n",
       "      <td>8</td>\n",
       "    </tr>\n",
       "    <tr>\n",
       "      <th>8336</th>\n",
       "      <td>8336</td>\n",
       "      <td>2024-07-02 11:07:10</td>\n",
       "      <td>0</td>\n",
       "      <td>google</td>\n",
       "      <td>SUPERazkari</td>\n",
       "      <td>4</td>\n",
       "    </tr>\n",
       "    <tr>\n",
       "      <th>8337</th>\n",
       "      <td>8337</td>\n",
       "      <td>2024-07-02 11:07:10</td>\n",
       "      <td>0</td>\n",
       "      <td>That’s a hard question to answer for a set of ...</td>\n",
       "      <td>Own-Resident-3837</td>\n",
       "      <td>-1</td>\n",
       "    </tr>\n",
       "    <tr>\n",
       "      <th>8338</th>\n",
       "      <td>8338</td>\n",
       "      <td>2024-07-02 11:07:10</td>\n",
       "      <td>0</td>\n",
       "      <td>Not either one but instead why do people pick ...</td>\n",
       "      <td>No-Chemistry-6677</td>\n",
       "      <td>-4</td>\n",
       "    </tr>\n",
       "  </tbody>\n",
       "</table>\n",
       "<p>8339 rows × 6 columns</p>\n",
       "</div>"
      ],
      "text/plain": [
       "      Unnamed: 0                 date  post_votes  \\\n",
       "0              0  2024-09-04 15:33:20           2   \n",
       "1              1  2024-09-04 15:33:20           2   \n",
       "2              2  2024-09-04 15:33:20           2   \n",
       "3              3  2024-09-04 15:33:20           2   \n",
       "4              4  2024-09-04 14:32:17           1   \n",
       "...          ...                  ...         ...   \n",
       "8334        8334  2024-07-02 12:35:36           9   \n",
       "8335        8335  2024-07-02 11:07:10           0   \n",
       "8336        8336  2024-07-02 11:07:10           0   \n",
       "8337        8337  2024-07-02 11:07:10           0   \n",
       "8338        8338  2024-07-02 11:07:10           0   \n",
       "\n",
       "                                                   text               user  \\\n",
       "0     Zingermans has a nice reuben, pretty pricey bu...  Suspicious-Bad703   \n",
       "1                                I really love Tomokun!        webstbre000   \n",
       "2     The Seoul is pretty good I especially like the...            iaxlmao   \n",
       "3     A lot of it depends on what type of food and w...              I-696   \n",
       "4     You can book completely enclosed private study...             sneep_   \n",
       "...                                                 ...                ...   \n",
       "8334                             It isn’t a student org   Vibes_And_Smiles   \n",
       "8335                  Life   \\nMatter   \\nLife's matter               tctu   \n",
       "8336                                             google        SUPERazkari   \n",
       "8337  That’s a hard question to answer for a set of ...  Own-Resident-3837   \n",
       "8338  Not either one but instead why do people pick ...  No-Chemistry-6677   \n",
       "\n",
       "      com_votes  \n",
       "0             2  \n",
       "1             2  \n",
       "2             1  \n",
       "3             1  \n",
       "4             2  \n",
       "...         ...  \n",
       "8334          1  \n",
       "8335          8  \n",
       "8336          4  \n",
       "8337         -1  \n",
       "8338         -4  \n",
       "\n",
       "[8339 rows x 6 columns]"
      ]
     },
     "execution_count": 59,
     "metadata": {},
     "output_type": "execute_result"
    }
   ],
   "source": [
    "#jupyter will print a pretty representation of most python objects if you just put the name\n",
    "#we can see that the full text of each reddit comment is provided in the \"text\" column\n",
    "mich"
   ]
  },
  {
   "cell_type": "code",
   "execution_count": null,
   "metadata": {},
   "outputs": [],
   "source": [
    "#this is a function that does some light cleaning, by removing newline characters, converting to lowercase, and removing punctuation\n",
    "\n",
    "def clean(text):\n",
    "    #remove newline and space characters\n",
    "    text = ' '.join(text.split())\n",
    "    #convert the text to lowercase\n",
    "    text = text.lower()\n",
    "    #remove punctuation\n",
    "    text = ''.join([char for char in text if char.isalpha() or char.isspace()])\n",
    "    return text"
   ]
  },
  {
   "cell_type": "code",
   "execution_count": null,
   "metadata": {},
   "outputs": [],
   "source": [
    "#pandas allows us to quickly apply this cleaning function to all rows in a column\n",
    "mich['cleaned_text'] = mich['text'].apply(clean)"
   ]
  },
  {
   "cell_type": "code",
   "execution_count": null,
   "metadata": {},
   "outputs": [
    {
     "data": {
      "text/plain": [
       "'zingermans has a nice reuben pretty pricey but the sammies are pretty big'"
      ]
     },
     "execution_count": 62,
     "metadata": {},
     "output_type": "execute_result"
    }
   ],
   "source": [
    "#we can see the first comment after cleaning vs before\n",
    "mich[\"cleaned_text\"][0]"
   ]
  },
  {
   "cell_type": "code",
   "execution_count": null,
   "metadata": {},
   "outputs": [
    {
     "data": {
      "text/plain": [
       "'Zingermans has a nice reuben, pretty pricey but the sammies are pretty big'"
      ]
     },
     "execution_count": 63,
     "metadata": {},
     "output_type": "execute_result"
    }
   ],
   "source": [
    "mich[\"text\"][0]"
   ]
  },
  {
   "cell_type": "code",
   "execution_count": null,
   "metadata": {},
   "outputs": [],
   "source": [
    "#create a bag of words representation with count vectorizer\n",
    "vectorizer = CountVectorizer()\n",
    "bag_of_words = vectorizer.fit_transform(mich['cleaned_text'])"
   ]
  },
  {
   "cell_type": "code",
   "execution_count": null,
   "metadata": {},
   "outputs": [
    {
     "data": {
      "text/plain": [
       "<8339x15289 sparse matrix of type '<class 'numpy.int64'>'\n",
       "\twith 221217 stored elements in Compressed Sparse Row format>"
      ]
     },
     "execution_count": 65,
     "metadata": {},
     "output_type": "execute_result"
    }
   ],
   "source": [
    "#this is a sparse matrix, which is a more efficient way to store a matrix with many zeros\n",
    "#the matrix has 8339 rows (one for each comment) and 15289 columns (one for each unique word in the dataset)\n",
    "bag_of_words"
   ]
  },
  {
   "cell_type": "code",
   "execution_count": null,
   "metadata": {},
   "outputs": [
    {
     "data": {
      "text/html": [
       "<div>\n",
       "<style scoped>\n",
       "    .dataframe tbody tr th:only-of-type {\n",
       "        vertical-align: middle;\n",
       "    }\n",
       "\n",
       "    .dataframe tbody tr th {\n",
       "        vertical-align: top;\n",
       "    }\n",
       "\n",
       "    .dataframe thead th {\n",
       "        text-align: right;\n",
       "    }\n",
       "</style>\n",
       "<table border=\"1\" class=\"dataframe\">\n",
       "  <thead>\n",
       "    <tr style=\"text-align: right;\">\n",
       "      <th></th>\n",
       "      <th>aa</th>\n",
       "      <th>aadl</th>\n",
       "      <th>aapd</th>\n",
       "      <th>aata</th>\n",
       "      <th>ab</th>\n",
       "      <th>abab</th>\n",
       "      <th>abandon</th>\n",
       "      <th>abandoned</th>\n",
       "      <th>abbreviation</th>\n",
       "      <th>abbreviations</th>\n",
       "      <th>...</th>\n",
       "      <th>zoned</th>\n",
       "      <th>zones</th>\n",
       "      <th>zoning</th>\n",
       "      <th>zoo</th>\n",
       "      <th>zoom</th>\n",
       "      <th>zoomer</th>\n",
       "      <th>zoomers</th>\n",
       "      <th>zuckerberg</th>\n",
       "      <th>𝓲𝓷𝓼𝓮𝓬𝓾𝓻𝓮</th>\n",
       "      <th>𝘢𝘩𝘦𝘮</th>\n",
       "    </tr>\n",
       "  </thead>\n",
       "  <tbody>\n",
       "    <tr>\n",
       "      <th>0</th>\n",
       "      <td>0</td>\n",
       "      <td>0</td>\n",
       "      <td>0</td>\n",
       "      <td>0</td>\n",
       "      <td>0</td>\n",
       "      <td>0</td>\n",
       "      <td>0</td>\n",
       "      <td>0</td>\n",
       "      <td>0</td>\n",
       "      <td>0</td>\n",
       "      <td>...</td>\n",
       "      <td>0</td>\n",
       "      <td>0</td>\n",
       "      <td>0</td>\n",
       "      <td>0</td>\n",
       "      <td>0</td>\n",
       "      <td>0</td>\n",
       "      <td>0</td>\n",
       "      <td>0</td>\n",
       "      <td>0</td>\n",
       "      <td>0</td>\n",
       "    </tr>\n",
       "    <tr>\n",
       "      <th>1</th>\n",
       "      <td>0</td>\n",
       "      <td>0</td>\n",
       "      <td>0</td>\n",
       "      <td>0</td>\n",
       "      <td>0</td>\n",
       "      <td>0</td>\n",
       "      <td>0</td>\n",
       "      <td>0</td>\n",
       "      <td>0</td>\n",
       "      <td>0</td>\n",
       "      <td>...</td>\n",
       "      <td>0</td>\n",
       "      <td>0</td>\n",
       "      <td>0</td>\n",
       "      <td>0</td>\n",
       "      <td>0</td>\n",
       "      <td>0</td>\n",
       "      <td>0</td>\n",
       "      <td>0</td>\n",
       "      <td>0</td>\n",
       "      <td>0</td>\n",
       "    </tr>\n",
       "    <tr>\n",
       "      <th>2</th>\n",
       "      <td>0</td>\n",
       "      <td>0</td>\n",
       "      <td>0</td>\n",
       "      <td>0</td>\n",
       "      <td>0</td>\n",
       "      <td>0</td>\n",
       "      <td>0</td>\n",
       "      <td>0</td>\n",
       "      <td>0</td>\n",
       "      <td>0</td>\n",
       "      <td>...</td>\n",
       "      <td>0</td>\n",
       "      <td>0</td>\n",
       "      <td>0</td>\n",
       "      <td>0</td>\n",
       "      <td>0</td>\n",
       "      <td>0</td>\n",
       "      <td>0</td>\n",
       "      <td>0</td>\n",
       "      <td>0</td>\n",
       "      <td>0</td>\n",
       "    </tr>\n",
       "    <tr>\n",
       "      <th>3</th>\n",
       "      <td>0</td>\n",
       "      <td>0</td>\n",
       "      <td>0</td>\n",
       "      <td>0</td>\n",
       "      <td>0</td>\n",
       "      <td>0</td>\n",
       "      <td>0</td>\n",
       "      <td>0</td>\n",
       "      <td>0</td>\n",
       "      <td>0</td>\n",
       "      <td>...</td>\n",
       "      <td>0</td>\n",
       "      <td>0</td>\n",
       "      <td>0</td>\n",
       "      <td>0</td>\n",
       "      <td>0</td>\n",
       "      <td>0</td>\n",
       "      <td>0</td>\n",
       "      <td>0</td>\n",
       "      <td>0</td>\n",
       "      <td>0</td>\n",
       "    </tr>\n",
       "    <tr>\n",
       "      <th>4</th>\n",
       "      <td>0</td>\n",
       "      <td>0</td>\n",
       "      <td>0</td>\n",
       "      <td>0</td>\n",
       "      <td>0</td>\n",
       "      <td>0</td>\n",
       "      <td>0</td>\n",
       "      <td>0</td>\n",
       "      <td>0</td>\n",
       "      <td>0</td>\n",
       "      <td>...</td>\n",
       "      <td>0</td>\n",
       "      <td>0</td>\n",
       "      <td>0</td>\n",
       "      <td>0</td>\n",
       "      <td>0</td>\n",
       "      <td>0</td>\n",
       "      <td>0</td>\n",
       "      <td>0</td>\n",
       "      <td>0</td>\n",
       "      <td>0</td>\n",
       "    </tr>\n",
       "    <tr>\n",
       "      <th>...</th>\n",
       "      <td>...</td>\n",
       "      <td>...</td>\n",
       "      <td>...</td>\n",
       "      <td>...</td>\n",
       "      <td>...</td>\n",
       "      <td>...</td>\n",
       "      <td>...</td>\n",
       "      <td>...</td>\n",
       "      <td>...</td>\n",
       "      <td>...</td>\n",
       "      <td>...</td>\n",
       "      <td>...</td>\n",
       "      <td>...</td>\n",
       "      <td>...</td>\n",
       "      <td>...</td>\n",
       "      <td>...</td>\n",
       "      <td>...</td>\n",
       "      <td>...</td>\n",
       "      <td>...</td>\n",
       "      <td>...</td>\n",
       "      <td>...</td>\n",
       "    </tr>\n",
       "    <tr>\n",
       "      <th>8334</th>\n",
       "      <td>0</td>\n",
       "      <td>0</td>\n",
       "      <td>0</td>\n",
       "      <td>0</td>\n",
       "      <td>0</td>\n",
       "      <td>0</td>\n",
       "      <td>0</td>\n",
       "      <td>0</td>\n",
       "      <td>0</td>\n",
       "      <td>0</td>\n",
       "      <td>...</td>\n",
       "      <td>0</td>\n",
       "      <td>0</td>\n",
       "      <td>0</td>\n",
       "      <td>0</td>\n",
       "      <td>0</td>\n",
       "      <td>0</td>\n",
       "      <td>0</td>\n",
       "      <td>0</td>\n",
       "      <td>0</td>\n",
       "      <td>0</td>\n",
       "    </tr>\n",
       "    <tr>\n",
       "      <th>8335</th>\n",
       "      <td>0</td>\n",
       "      <td>0</td>\n",
       "      <td>0</td>\n",
       "      <td>0</td>\n",
       "      <td>0</td>\n",
       "      <td>0</td>\n",
       "      <td>0</td>\n",
       "      <td>0</td>\n",
       "      <td>0</td>\n",
       "      <td>0</td>\n",
       "      <td>...</td>\n",
       "      <td>0</td>\n",
       "      <td>0</td>\n",
       "      <td>0</td>\n",
       "      <td>0</td>\n",
       "      <td>0</td>\n",
       "      <td>0</td>\n",
       "      <td>0</td>\n",
       "      <td>0</td>\n",
       "      <td>0</td>\n",
       "      <td>0</td>\n",
       "    </tr>\n",
       "    <tr>\n",
       "      <th>8336</th>\n",
       "      <td>0</td>\n",
       "      <td>0</td>\n",
       "      <td>0</td>\n",
       "      <td>0</td>\n",
       "      <td>0</td>\n",
       "      <td>0</td>\n",
       "      <td>0</td>\n",
       "      <td>0</td>\n",
       "      <td>0</td>\n",
       "      <td>0</td>\n",
       "      <td>...</td>\n",
       "      <td>0</td>\n",
       "      <td>0</td>\n",
       "      <td>0</td>\n",
       "      <td>0</td>\n",
       "      <td>0</td>\n",
       "      <td>0</td>\n",
       "      <td>0</td>\n",
       "      <td>0</td>\n",
       "      <td>0</td>\n",
       "      <td>0</td>\n",
       "    </tr>\n",
       "    <tr>\n",
       "      <th>8337</th>\n",
       "      <td>0</td>\n",
       "      <td>0</td>\n",
       "      <td>0</td>\n",
       "      <td>0</td>\n",
       "      <td>0</td>\n",
       "      <td>0</td>\n",
       "      <td>0</td>\n",
       "      <td>0</td>\n",
       "      <td>0</td>\n",
       "      <td>0</td>\n",
       "      <td>...</td>\n",
       "      <td>0</td>\n",
       "      <td>0</td>\n",
       "      <td>0</td>\n",
       "      <td>0</td>\n",
       "      <td>0</td>\n",
       "      <td>0</td>\n",
       "      <td>0</td>\n",
       "      <td>0</td>\n",
       "      <td>0</td>\n",
       "      <td>0</td>\n",
       "    </tr>\n",
       "    <tr>\n",
       "      <th>8338</th>\n",
       "      <td>0</td>\n",
       "      <td>0</td>\n",
       "      <td>0</td>\n",
       "      <td>0</td>\n",
       "      <td>0</td>\n",
       "      <td>0</td>\n",
       "      <td>0</td>\n",
       "      <td>0</td>\n",
       "      <td>0</td>\n",
       "      <td>0</td>\n",
       "      <td>...</td>\n",
       "      <td>0</td>\n",
       "      <td>0</td>\n",
       "      <td>0</td>\n",
       "      <td>0</td>\n",
       "      <td>0</td>\n",
       "      <td>0</td>\n",
       "      <td>0</td>\n",
       "      <td>0</td>\n",
       "      <td>0</td>\n",
       "      <td>0</td>\n",
       "    </tr>\n",
       "  </tbody>\n",
       "</table>\n",
       "<p>8339 rows × 15289 columns</p>\n",
       "</div>"
      ],
      "text/plain": [
       "      aa  aadl  aapd  aata  ab  abab  abandon  abandoned  abbreviation  \\\n",
       "0      0     0     0     0   0     0        0          0             0   \n",
       "1      0     0     0     0   0     0        0          0             0   \n",
       "2      0     0     0     0   0     0        0          0             0   \n",
       "3      0     0     0     0   0     0        0          0             0   \n",
       "4      0     0     0     0   0     0        0          0             0   \n",
       "...   ..   ...   ...   ...  ..   ...      ...        ...           ...   \n",
       "8334   0     0     0     0   0     0        0          0             0   \n",
       "8335   0     0     0     0   0     0        0          0             0   \n",
       "8336   0     0     0     0   0     0        0          0             0   \n",
       "8337   0     0     0     0   0     0        0          0             0   \n",
       "8338   0     0     0     0   0     0        0          0             0   \n",
       "\n",
       "      abbreviations  ...  zoned  zones  zoning  zoo  zoom  zoomer  zoomers  \\\n",
       "0                 0  ...      0      0       0    0     0       0        0   \n",
       "1                 0  ...      0      0       0    0     0       0        0   \n",
       "2                 0  ...      0      0       0    0     0       0        0   \n",
       "3                 0  ...      0      0       0    0     0       0        0   \n",
       "4                 0  ...      0      0       0    0     0       0        0   \n",
       "...             ...  ...    ...    ...     ...  ...   ...     ...      ...   \n",
       "8334              0  ...      0      0       0    0     0       0        0   \n",
       "8335              0  ...      0      0       0    0     0       0        0   \n",
       "8336              0  ...      0      0       0    0     0       0        0   \n",
       "8337              0  ...      0      0       0    0     0       0        0   \n",
       "8338              0  ...      0      0       0    0     0       0        0   \n",
       "\n",
       "      zuckerberg  𝓲𝓷𝓼𝓮𝓬𝓾𝓻𝓮  𝘢𝘩𝘦𝘮  \n",
       "0              0         0     0  \n",
       "1              0         0     0  \n",
       "2              0         0     0  \n",
       "3              0         0     0  \n",
       "4              0         0     0  \n",
       "...          ...       ...   ...  \n",
       "8334           0         0     0  \n",
       "8335           0         0     0  \n",
       "8336           0         0     0  \n",
       "8337           0         0     0  \n",
       "8338           0         0     0  \n",
       "\n",
       "[8339 rows x 15289 columns]"
      ]
     },
     "execution_count": 66,
     "metadata": {},
     "output_type": "execute_result"
    }
   ],
   "source": [
    "#create a dataframe from the sparse matrix\n",
    "#this is a more human-readable way to view the data\n",
    "bow_df = pd.DataFrame(bag_of_words.toarray(), columns=vectorizer.get_feature_names_out())\n",
    "bow_df"
   ]
  },
  {
   "cell_type": "code",
   "execution_count": null,
   "metadata": {},
   "outputs": [
    {
     "data": {
      "text/plain": [
       "the            11306\n",
       "to              8480\n",
       "and             6921\n",
       "you             6256\n",
       "of              5028\n",
       "               ...  \n",
       "journals           1\n",
       "journeywhen        1\n",
       "jpg                1\n",
       "js                 1\n",
       "𝘢𝘩𝘦𝘮               1\n",
       "Length: 15289, dtype: int64"
      ]
     },
     "execution_count": 67,
     "metadata": {},
     "output_type": "execute_result"
    }
   ],
   "source": [
    "#dataframes have a convenient method for summing the values in each column\n",
    "#this will give us the number of times each word appears in the dataset\n",
    "word_counts = bow_df.sum()\n",
    "#we can sort the values to see the most common words\n",
    "word_counts = word_counts.sort_values(ascending=False)\n",
    "\n",
    "#notice that the top words are not very informative, as they are common words that appear in many contexts\n",
    "#and bottom words include a lot of typos and other noise\n",
    "word_counts"
   ]
  },
  {
   "cell_type": "code",
   "execution_count": null,
   "metadata": {},
   "outputs": [
    {
     "data": {
      "image/png": "[encoded data removed]",
      "text/plain": [
       "<Figure size 2000x1000 with 1 Axes>"
      ]
     },
     "metadata": {},
     "output_type": "display_data"
    }
   ],
   "source": [
    "#we can plot the most common words\n",
    "#we will only plot the top 10 words for readability\n",
    "word_counts = word_counts.head(10)\n",
    "plt.figure(figsize=(20,10))\n",
    "plt.bar(word_counts.index, word_counts.values)\n",
    "plt.xticks(rotation=45)\n",
    "plt.show()"
   ]
  },
  {
   "cell_type": "markdown",
   "metadata": {},
   "source": [
    "#### Question 1: what do you notice about the words in this plot? Is this useful for studying the community?"
   ]
  },
  {
   "cell_type": "markdown",
   "metadata": {},
   "source": [
    "Answer here: Most of these words are function words like pronouns, articles, prepositions, and conjunctions. These words are not useful for studying the community because they don't carry significant meaning on their own. "
   ]
  },
  {
   "cell_type": "markdown",
   "metadata": {},
   "source": [
    "#### Lemmatization and stopword removal"
   ]
  },
  {
   "cell_type": "code",
   "execution_count": null,
   "metadata": {},
   "outputs": [],
   "source": [
    "#lemmatization function from the openclassrooms reading\n",
    "def lemmatize(text):\n",
    "\n",
    "   doc = language_model(text)\n",
    "\n",
    "   tokens = [token.lemma_ for token in doc if not (token.is_stop or token.is_punct)]\n",
    "\n",
    "   return ' '.join(tokens)"
   ]
  },
  {
   "cell_type": "code",
   "execution_count": null,
   "metadata": {},
   "outputs": [],
   "source": [
    "#we can further process the text by removing stopwords and lemmatizing\n",
    "mich['lemmatized_text'] = mich['cleaned_text'].apply(lemmatize)"
   ]
  },
  {
   "cell_type": "code",
   "execution_count": null,
   "metadata": {},
   "outputs": [],
   "source": [
    "#count vectorizer also has parameters min_df and max_df that can be used to filter out words that are too rare or too common\n",
    "#min_df=3 means that a word must appear in at least 3 documents to be included, this will remove typos and rare words\n",
    "#max_df=0.3 means that a word must appear in at most 30% of documents to be included, this will remove corpus-specific stopwords\n",
    "\n",
    "#we are also able to include n-grams in the count vectorizer\n",
    "#n-grams are sequences of n words that appear together in the text\n",
    "#the n-gram_range parameter specifies the minimum and maximum n-gram size to include (so in this case, we are including both unigrams and bigrams)\n",
    "vectorizer = CountVectorizer(min_df=3, max_df=0.3, ngram_range=(1,2))\n",
    "bag_of_words = vectorizer.fit_transform(mich['lemmatized_text'])"
   ]
  },
  {
   "cell_type": "code",
   "execution_count": null,
   "metadata": {},
   "outputs": [
    {
     "data": {
      "text/plain": [
       "<8339x8637 sparse matrix of type '<class 'numpy.int64'>'\n",
       "\twith 126833 stored elements in Compressed Sparse Row format>"
      ]
     },
     "execution_count": 72,
     "metadata": {},
     "output_type": "execute_result"
    }
   ],
   "source": [
    "#we can see that we filtered out 11000 common words and typos\n",
    "bag_of_words"
   ]
  },
  {
   "cell_type": "code",
   "execution_count": null,
   "metadata": {},
   "outputs": [
    {
     "data": {
      "text/plain": [
       "not               2862\n",
       "student           1183\n",
       "like              1183\n",
       "people            1124\n",
       "class              988\n",
       "                  ... \n",
       "sell minnesota       3\n",
       "cred                 3\n",
       "credential           3\n",
       "sell oregon          3\n",
       "pay dollar           3\n",
       "Length: 8637, dtype: int64"
      ]
     },
     "execution_count": 73,
     "metadata": {},
     "output_type": "execute_result"
    }
   ],
   "source": [
    "#we can repeat the previous code to create a dataframe and count the words\n",
    "bow_df = pd.DataFrame(bag_of_words.toarray(), columns=vectorizer.get_feature_names_out())\n",
    "word_counts = bow_df.sum()\n",
    "word_counts = word_counts.sort_values(ascending=False)\n",
    "word_counts"
   ]
  },
  {
   "cell_type": "code",
   "execution_count": null,
   "metadata": {},
   "outputs": [],
   "source": [
    "#we can convert this to a percentage instead of an absolute count by dividing by the total number of words\n",
    "word_counts = word_counts / word_counts.sum()"
   ]
  },
  {
   "cell_type": "code",
   "execution_count": null,
   "metadata": {},
   "outputs": [
    {
     "data": {
      "image/png": "[encoded data removed]",
      "text/plain": [
       "<Figure size 2000x1000 with 1 Axes>"
      ]
     },
     "metadata": {},
     "output_type": "display_data"
    }
   ],
   "source": [
    "#we can plot the most common words\n",
    "#we will only plot the top 10 words for readability\n",
    "plot_list = word_counts.head(10)\n",
    "plt.figure(figsize=(20,10))\n",
    "plt.bar(plot_list.index, plot_list.values)\n",
    "plt.xticks(rotation=45)\n",
    "plt.show()"
   ]
  },
  {
   "cell_type": "code",
   "execution_count": null,
   "metadata": {},
   "outputs": [
    {
     "data": {
      "text/plain": [
       "4.138501862325838e-05"
      ]
     },
     "execution_count": 76,
     "metadata": {},
     "output_type": "execute_result"
    }
   ],
   "source": [
    "#pandas allows us to access specific words in the series using the index\n",
    "word_counts[\"student loan\"]"
   ]
  },
  {
   "cell_type": "code",
   "execution_count": null,
   "metadata": {},
   "outputs": [
    {
     "data": {
      "text/plain": [
       "history             0.000352\n",
       "business            0.000600\n",
       "computer science    0.000034\n",
       "cs                  0.001228\n",
       "computer            0.000262\n",
       "dtype: float64"
      ]
     },
     "execution_count": 77,
     "metadata": {},
     "output_type": "execute_result"
    }
   ],
   "source": [
    "#we can also use a list of words to compare and plot specific words\n",
    "plot_list=word_counts[[\"history\", \"business\", \"computer science\", \"cs\", \"computer\"]]\n",
    "plot_list"
   ]
  },
  {
   "cell_type": "code",
   "execution_count": null,
   "metadata": {},
   "outputs": [
    {
     "data": {
      "image/png": "[encoded data removed]",
      "text/plain": [
       "<Figure size 2000x1000 with 1 Axes>"
      ]
     },
     "metadata": {},
     "output_type": "display_data"
    }
   ],
   "source": [
    "\n",
    "plt.figure(figsize=(20,10))\n",
    "plt.bar(plot_list.index, plot_list.values)\n",
    "plt.xticks(rotation=45)\n",
    "plt.show()"
   ]
  },
  {
   "cell_type": "markdown",
   "metadata": {},
   "source": [
    "#### Question 2:"
   ]
  },
  {
   "cell_type": "code",
   "execution_count": null,
   "metadata": {},
   "outputs": [],
   "source": [
    "#TODO: pick 5 words that you find interesting or are curious about, and plot a bar plot of their frequency in this dataset "
   ]
  },
  {
   "cell_type": "code",
   "execution_count": null,
   "metadata": {},
   "outputs": [
    {
     "data": {
      "image/png": "[encoded data removed]",
      "text/plain": [
       "<Figure size 2000x1000 with 1 Axes>"
      ]
     },
     "metadata": {},
     "output_type": "display_data"
    }
   ],
   "source": [
    "new_plot_list=word_counts[[\"sleep\", \"social\", \"study\", \"stress\", \"happy\"]]\n",
    "plt.figure(figsize=(20,10))\n",
    "plt.bar(new_plot_list.index, new_plot_list.values)\n",
    "plt.xticks(rotation=45)\n",
    "plt.show()"
   ]
  },
  {
   "cell_type": "markdown",
   "metadata": {},
   "source": [
    "### Problem 2: repeat this process with the Illinois subreddit data (in this directory as \"uiuc.csv\"). You should not have to change too much in the previous code besides the dataframe path and name. Your notebook should include the two bar graphs including and excluding stopwords. Use the same 5 words and compare their relative frequency between the two subreddits. Discuss any interesting differences you notice in a short markdown cell. "
   ]
  },
  {
   "cell_type": "code",
   "execution_count": null,
   "metadata": {},
   "outputs": [
    {
     "data": {
      "text/html": [
       "<div>\n",
       "<style scoped>\n",
       "    .dataframe tbody tr th:only-of-type {\n",
       "        vertical-align: middle;\n",
       "    }\n",
       "\n",
       "    .dataframe tbody tr th {\n",
       "        vertical-align: top;\n",
       "    }\n",
       "\n",
       "    .dataframe thead th {\n",
       "        text-align: right;\n",
       "    }\n",
       "</style>\n",
       "<table border=\"1\" class=\"dataframe\">\n",
       "  <thead>\n",
       "    <tr style=\"text-align: right;\">\n",
       "      <th></th>\n",
       "      <th>Unnamed: 0</th>\n",
       "      <th>date</th>\n",
       "      <th>post_votes</th>\n",
       "      <th>text</th>\n",
       "      <th>user</th>\n",
       "      <th>com_votes</th>\n",
       "    </tr>\n",
       "  </thead>\n",
       "  <tbody>\n",
       "    <tr>\n",
       "      <th>0</th>\n",
       "      <td>0</td>\n",
       "      <td>2024-09-04 14:43:40</td>\n",
       "      <td>2</td>\n",
       "      <td>Have the same professor! And in lecture he did...</td>\n",
       "      <td>zhen3441</td>\n",
       "      <td>2</td>\n",
       "    </tr>\n",
       "    <tr>\n",
       "      <th>1</th>\n",
       "      <td>1</td>\n",
       "      <td>2024-09-04 14:43:40</td>\n",
       "      <td>2</td>\n",
       "      <td>Do you find it helpful to still go to the lect...</td>\n",
       "      <td>Kai2747</td>\n",
       "      <td>1</td>\n",
       "    </tr>\n",
       "    <tr>\n",
       "      <th>2</th>\n",
       "      <td>2</td>\n",
       "      <td>2024-09-04 12:52:08</td>\n",
       "      <td>3</td>\n",
       "      <td>Have you tried emailing University Housing to ...</td>\n",
       "      <td>TurboBKTastic</td>\n",
       "      <td>2</td>\n",
       "    </tr>\n",
       "    <tr>\n",
       "      <th>3</th>\n",
       "      <td>3</td>\n",
       "      <td>2024-09-04 12:52:08</td>\n",
       "      <td>3</td>\n",
       "      <td>Purchasing Illini Cash should get you added to...</td>\n",
       "      <td>HoosierCAB</td>\n",
       "      <td>2</td>\n",
       "    </tr>\n",
       "    <tr>\n",
       "      <th>4</th>\n",
       "      <td>4</td>\n",
       "      <td>2024-09-04 12:52:08</td>\n",
       "      <td>3</td>\n",
       "      <td>Just did, thanks for the suggestion! It hadn't...</td>\n",
       "      <td>Sector-Both</td>\n",
       "      <td>1</td>\n",
       "    </tr>\n",
       "    <tr>\n",
       "      <th>...</th>\n",
       "      <td>...</td>\n",
       "      <td>...</td>\n",
       "      <td>...</td>\n",
       "      <td>...</td>\n",
       "      <td>...</td>\n",
       "      <td>...</td>\n",
       "    </tr>\n",
       "    <tr>\n",
       "      <th>4720</th>\n",
       "      <td>4720</td>\n",
       "      <td>2024-08-21 20:28:40</td>\n",
       "      <td>1</td>\n",
       "      <td>Im interested if you're still looking</td>\n",
       "      <td>Accomplished_Fix2409</td>\n",
       "      <td>0</td>\n",
       "    </tr>\n",
       "    <tr>\n",
       "      <th>4721</th>\n",
       "      <td>4721</td>\n",
       "      <td>2024-08-21 20:26:15</td>\n",
       "      <td>7</td>\n",
       "      <td>I went to one of the taylor nights. was quite ...</td>\n",
       "      <td>student176895</td>\n",
       "      <td>4</td>\n",
       "    </tr>\n",
       "    <tr>\n",
       "      <th>4722</th>\n",
       "      <td>4722</td>\n",
       "      <td>2024-08-21 20:21:54</td>\n",
       "      <td>10</td>\n",
       "      <td>Hey, I’m so sorry to hear that’s happening. If...</td>\n",
       "      <td>OCCLUIUC</td>\n",
       "      <td>5</td>\n",
       "    </tr>\n",
       "    <tr>\n",
       "      <th>4723</th>\n",
       "      <td>4723</td>\n",
       "      <td>2024-08-21 20:21:54</td>\n",
       "      <td>10</td>\n",
       "      <td>AFAIK, the “cleaning company” that UGroup empl...</td>\n",
       "      <td>perpetuallytired29</td>\n",
       "      <td>3</td>\n",
       "    </tr>\n",
       "    <tr>\n",
       "      <th>4724</th>\n",
       "      <td>4724</td>\n",
       "      <td>2024-08-21 20:21:54</td>\n",
       "      <td>10</td>\n",
       "      <td>thank god it wasn't a half dirty towel</td>\n",
       "      <td>Traditional_Half5199</td>\n",
       "      <td>0</td>\n",
       "    </tr>\n",
       "  </tbody>\n",
       "</table>\n",
       "<p>4725 rows × 6 columns</p>\n",
       "</div>"
      ],
      "text/plain": [
       "      Unnamed: 0                 date  post_votes  \\\n",
       "0              0  2024-09-04 14:43:40           2   \n",
       "1              1  2024-09-04 14:43:40           2   \n",
       "2              2  2024-09-04 12:52:08           3   \n",
       "3              3  2024-09-04 12:52:08           3   \n",
       "4              4  2024-09-04 12:52:08           3   \n",
       "...          ...                  ...         ...   \n",
       "4720        4720  2024-08-21 20:28:40           1   \n",
       "4721        4721  2024-08-21 20:26:15           7   \n",
       "4722        4722  2024-08-21 20:21:54          10   \n",
       "4723        4723  2024-08-21 20:21:54          10   \n",
       "4724        4724  2024-08-21 20:21:54          10   \n",
       "\n",
       "                                                   text                  user  \\\n",
       "0     Have the same professor! And in lecture he did...              zhen3441   \n",
       "1     Do you find it helpful to still go to the lect...               Kai2747   \n",
       "2     Have you tried emailing University Housing to ...         TurboBKTastic   \n",
       "3     Purchasing Illini Cash should get you added to...            HoosierCAB   \n",
       "4     Just did, thanks for the suggestion! It hadn't...           Sector-Both   \n",
       "...                                                 ...                   ...   \n",
       "4720              Im interested if you're still looking  Accomplished_Fix2409   \n",
       "4721  I went to one of the taylor nights. was quite ...         student176895   \n",
       "4722  Hey, I’m so sorry to hear that’s happening. If...              OCCLUIUC   \n",
       "4723  AFAIK, the “cleaning company” that UGroup empl...    perpetuallytired29   \n",
       "4724             thank god it wasn't a half dirty towel  Traditional_Half5199   \n",
       "\n",
       "      com_votes  \n",
       "0             2  \n",
       "1             1  \n",
       "2             2  \n",
       "3             2  \n",
       "4             1  \n",
       "...         ...  \n",
       "4720          0  \n",
       "4721          4  \n",
       "4722          5  \n",
       "4723          3  \n",
       "4724          0  \n",
       "\n",
       "[4725 rows x 6 columns]"
      ]
     },
     "execution_count": 81,
     "metadata": {},
     "output_type": "execute_result"
    }
   ],
   "source": [
    "uiuc=pd.read_csv(\"uiuc.csv\")\n",
    "uiuc"
   ]
  },
  {
   "cell_type": "code",
   "execution_count": null,
   "metadata": {},
   "outputs": [],
   "source": [
    "uiuc['cleaned_text'] = uiuc['text'].apply(clean)"
   ]
  },
  {
   "cell_type": "code",
   "execution_count": null,
   "metadata": {},
   "outputs": [
    {
     "data": {
      "text/plain": [
       "'have the same professor and in lecture he did say we were gonna have to learn some of the stuff ourself i would recommend using online resources such as pauls online math notes and professor leonard on youtube personally ive been learning the material from those sources before going to lecture'"
      ]
     },
     "execution_count": 83,
     "metadata": {},
     "output_type": "execute_result"
    }
   ],
   "source": [
    "uiuc[\"cleaned_text\"][0]"
   ]
  },
  {
   "cell_type": "code",
   "execution_count": null,
   "metadata": {},
   "outputs": [
    {
     "data": {
      "text/plain": [
       "'Have the same professor! And in lecture he did say we were gonna have to learn some of the stuff ourself\\xa0\\n\\nI would recommend using online resources such as Paul’s Online Math Notes and Professor Leonard on YouTube. Personally, I’ve been learning the material from those sources before going to lecture'"
      ]
     },
     "execution_count": 84,
     "metadata": {},
     "output_type": "execute_result"
    }
   ],
   "source": [
    "uiuc[\"text\"][0]"
   ]
  },
  {
   "cell_type": "code",
   "execution_count": null,
   "metadata": {},
   "outputs": [
    {
     "data": {
      "text/plain": [
       "<4725x10109 sparse matrix of type '<class 'numpy.int64'>'\n",
       "\twith 98566 stored elements in Compressed Sparse Row format>"
      ]
     },
     "execution_count": 85,
     "metadata": {},
     "output_type": "execute_result"
    }
   ],
   "source": [
    "vectorizer = CountVectorizer()\n",
    "uiuc_bag_of_words = vectorizer.fit_transform(uiuc['cleaned_text'])\n",
    "uiuc_bag_of_words"
   ]
  },
  {
   "cell_type": "code",
   "execution_count": null,
   "metadata": {},
   "outputs": [
    {
     "data": {
      "text/html": [
       "<div>\n",
       "<style scoped>\n",
       "    .dataframe tbody tr th:only-of-type {\n",
       "        vertical-align: middle;\n",
       "    }\n",
       "\n",
       "    .dataframe tbody tr th {\n",
       "        vertical-align: top;\n",
       "    }\n",
       "\n",
       "    .dataframe thead th {\n",
       "        text-align: right;\n",
       "    }\n",
       "</style>\n",
       "<table border=\"1\" class=\"dataframe\">\n",
       "  <thead>\n",
       "    <tr style=\"text-align: right;\">\n",
       "      <th></th>\n",
       "      <th>aa</th>\n",
       "      <th>aaa</th>\n",
       "      <th>aaaaah</th>\n",
       "      <th>aaabb</th>\n",
       "      <th>ab</th>\n",
       "      <th>abandoned</th>\n",
       "      <th>abcc</th>\n",
       "      <th>abide</th>\n",
       "      <th>abilities</th>\n",
       "      <th>ability</th>\n",
       "      <th>...</th>\n",
       "      <th>zombie</th>\n",
       "      <th>zone</th>\n",
       "      <th>zones</th>\n",
       "      <th>zoo</th>\n",
       "      <th>zoom</th>\n",
       "      <th>zoomed</th>\n",
       "      <th>봉사를</th>\n",
       "      <th>세계로</th>\n",
       "      <th>숭실</th>\n",
       "      <th>진리와</th>\n",
       "    </tr>\n",
       "  </thead>\n",
       "  <tbody>\n",
       "    <tr>\n",
       "      <th>0</th>\n",
       "      <td>0</td>\n",
       "      <td>0</td>\n",
       "      <td>0</td>\n",
       "      <td>0</td>\n",
       "      <td>0</td>\n",
       "      <td>0</td>\n",
       "      <td>0</td>\n",
       "      <td>0</td>\n",
       "      <td>0</td>\n",
       "      <td>0</td>\n",
       "      <td>...</td>\n",
       "      <td>0</td>\n",
       "      <td>0</td>\n",
       "      <td>0</td>\n",
       "      <td>0</td>\n",
       "      <td>0</td>\n",
       "      <td>0</td>\n",
       "      <td>0</td>\n",
       "      <td>0</td>\n",
       "      <td>0</td>\n",
       "      <td>0</td>\n",
       "    </tr>\n",
       "    <tr>\n",
       "      <th>1</th>\n",
       "      <td>0</td>\n",
       "      <td>0</td>\n",
       "      <td>0</td>\n",
       "      <td>0</td>\n",
       "      <td>0</td>\n",
       "      <td>0</td>\n",
       "      <td>0</td>\n",
       "      <td>0</td>\n",
       "      <td>0</td>\n",
       "      <td>0</td>\n",
       "      <td>...</td>\n",
       "      <td>0</td>\n",
       "      <td>0</td>\n",
       "      <td>0</td>\n",
       "      <td>0</td>\n",
       "      <td>0</td>\n",
       "      <td>0</td>\n",
       "      <td>0</td>\n",
       "      <td>0</td>\n",
       "      <td>0</td>\n",
       "      <td>0</td>\n",
       "    </tr>\n",
       "    <tr>\n",
       "      <th>2</th>\n",
       "      <td>0</td>\n",
       "      <td>0</td>\n",
       "      <td>0</td>\n",
       "      <td>0</td>\n",
       "      <td>0</td>\n",
       "      <td>0</td>\n",
       "      <td>0</td>\n",
       "      <td>0</td>\n",
       "      <td>0</td>\n",
       "      <td>0</td>\n",
       "      <td>...</td>\n",
       "      <td>0</td>\n",
       "      <td>0</td>\n",
       "      <td>0</td>\n",
       "      <td>0</td>\n",
       "      <td>0</td>\n",
       "      <td>0</td>\n",
       "      <td>0</td>\n",
       "      <td>0</td>\n",
       "      <td>0</td>\n",
       "      <td>0</td>\n",
       "    </tr>\n",
       "    <tr>\n",
       "      <th>3</th>\n",
       "      <td>0</td>\n",
       "      <td>0</td>\n",
       "      <td>0</td>\n",
       "      <td>0</td>\n",
       "      <td>0</td>\n",
       "      <td>0</td>\n",
       "      <td>0</td>\n",
       "      <td>0</td>\n",
       "      <td>0</td>\n",
       "      <td>0</td>\n",
       "      <td>...</td>\n",
       "      <td>0</td>\n",
       "      <td>0</td>\n",
       "      <td>0</td>\n",
       "      <td>0</td>\n",
       "      <td>0</td>\n",
       "      <td>0</td>\n",
       "      <td>0</td>\n",
       "      <td>0</td>\n",
       "      <td>0</td>\n",
       "      <td>0</td>\n",
       "    </tr>\n",
       "    <tr>\n",
       "      <th>4</th>\n",
       "      <td>0</td>\n",
       "      <td>0</td>\n",
       "      <td>0</td>\n",
       "      <td>0</td>\n",
       "      <td>0</td>\n",
       "      <td>0</td>\n",
       "      <td>0</td>\n",
       "      <td>0</td>\n",
       "      <td>0</td>\n",
       "      <td>0</td>\n",
       "      <td>...</td>\n",
       "      <td>0</td>\n",
       "      <td>0</td>\n",
       "      <td>0</td>\n",
       "      <td>0</td>\n",
       "      <td>0</td>\n",
       "      <td>0</td>\n",
       "      <td>0</td>\n",
       "      <td>0</td>\n",
       "      <td>0</td>\n",
       "      <td>0</td>\n",
       "    </tr>\n",
       "    <tr>\n",
       "      <th>...</th>\n",
       "      <td>...</td>\n",
       "      <td>...</td>\n",
       "      <td>...</td>\n",
       "      <td>...</td>\n",
       "      <td>...</td>\n",
       "      <td>...</td>\n",
       "      <td>...</td>\n",
       "      <td>...</td>\n",
       "      <td>...</td>\n",
       "      <td>...</td>\n",
       "      <td>...</td>\n",
       "      <td>...</td>\n",
       "      <td>...</td>\n",
       "      <td>...</td>\n",
       "      <td>...</td>\n",
       "      <td>...</td>\n",
       "      <td>...</td>\n",
       "      <td>...</td>\n",
       "      <td>...</td>\n",
       "      <td>...</td>\n",
       "      <td>...</td>\n",
       "    </tr>\n",
       "    <tr>\n",
       "      <th>4720</th>\n",
       "      <td>0</td>\n",
       "      <td>0</td>\n",
       "      <td>0</td>\n",
       "      <td>0</td>\n",
       "      <td>0</td>\n",
       "      <td>0</td>\n",
       "      <td>0</td>\n",
       "      <td>0</td>\n",
       "      <td>0</td>\n",
       "      <td>0</td>\n",
       "      <td>...</td>\n",
       "      <td>0</td>\n",
       "      <td>0</td>\n",
       "      <td>0</td>\n",
       "      <td>0</td>\n",
       "      <td>0</td>\n",
       "      <td>0</td>\n",
       "      <td>0</td>\n",
       "      <td>0</td>\n",
       "      <td>0</td>\n",
       "      <td>0</td>\n",
       "    </tr>\n",
       "    <tr>\n",
       "      <th>4721</th>\n",
       "      <td>0</td>\n",
       "      <td>0</td>\n",
       "      <td>0</td>\n",
       "      <td>0</td>\n",
       "      <td>0</td>\n",
       "      <td>0</td>\n",
       "      <td>0</td>\n",
       "      <td>0</td>\n",
       "      <td>0</td>\n",
       "      <td>0</td>\n",
       "      <td>...</td>\n",
       "      <td>0</td>\n",
       "      <td>0</td>\n",
       "      <td>0</td>\n",
       "      <td>0</td>\n",
       "      <td>0</td>\n",
       "      <td>0</td>\n",
       "      <td>0</td>\n",
       "      <td>0</td>\n",
       "      <td>0</td>\n",
       "      <td>0</td>\n",
       "    </tr>\n",
       "    <tr>\n",
       "      <th>4722</th>\n",
       "      <td>0</td>\n",
       "      <td>0</td>\n",
       "      <td>0</td>\n",
       "      <td>0</td>\n",
       "      <td>0</td>\n",
       "      <td>0</td>\n",
       "      <td>0</td>\n",
       "      <td>0</td>\n",
       "      <td>0</td>\n",
       "      <td>0</td>\n",
       "      <td>...</td>\n",
       "      <td>0</td>\n",
       "      <td>0</td>\n",
       "      <td>0</td>\n",
       "      <td>0</td>\n",
       "      <td>0</td>\n",
       "      <td>0</td>\n",
       "      <td>0</td>\n",
       "      <td>0</td>\n",
       "      <td>0</td>\n",
       "      <td>0</td>\n",
       "    </tr>\n",
       "    <tr>\n",
       "      <th>4723</th>\n",
       "      <td>0</td>\n",
       "      <td>0</td>\n",
       "      <td>0</td>\n",
       "      <td>0</td>\n",
       "      <td>0</td>\n",
       "      <td>0</td>\n",
       "      <td>0</td>\n",
       "      <td>0</td>\n",
       "      <td>0</td>\n",
       "      <td>0</td>\n",
       "      <td>...</td>\n",
       "      <td>0</td>\n",
       "      <td>0</td>\n",
       "      <td>0</td>\n",
       "      <td>0</td>\n",
       "      <td>0</td>\n",
       "      <td>0</td>\n",
       "      <td>0</td>\n",
       "      <td>0</td>\n",
       "      <td>0</td>\n",
       "      <td>0</td>\n",
       "    </tr>\n",
       "    <tr>\n",
       "      <th>4724</th>\n",
       "      <td>0</td>\n",
       "      <td>0</td>\n",
       "      <td>0</td>\n",
       "      <td>0</td>\n",
       "      <td>0</td>\n",
       "      <td>0</td>\n",
       "      <td>0</td>\n",
       "      <td>0</td>\n",
       "      <td>0</td>\n",
       "      <td>0</td>\n",
       "      <td>...</td>\n",
       "      <td>0</td>\n",
       "      <td>0</td>\n",
       "      <td>0</td>\n",
       "      <td>0</td>\n",
       "      <td>0</td>\n",
       "      <td>0</td>\n",
       "      <td>0</td>\n",
       "      <td>0</td>\n",
       "      <td>0</td>\n",
       "      <td>0</td>\n",
       "    </tr>\n",
       "  </tbody>\n",
       "</table>\n",
       "<p>4725 rows × 10109 columns</p>\n",
       "</div>"
      ],
      "text/plain": [
       "      aa  aaa  aaaaah  aaabb  ab  abandoned  abcc  abide  abilities  ability  \\\n",
       "0      0    0       0      0   0          0     0      0          0        0   \n",
       "1      0    0       0      0   0          0     0      0          0        0   \n",
       "2      0    0       0      0   0          0     0      0          0        0   \n",
       "3      0    0       0      0   0          0     0      0          0        0   \n",
       "4      0    0       0      0   0          0     0      0          0        0   \n",
       "...   ..  ...     ...    ...  ..        ...   ...    ...        ...      ...   \n",
       "4720   0    0       0      0   0          0     0      0          0        0   \n",
       "4721   0    0       0      0   0          0     0      0          0        0   \n",
       "4722   0    0       0      0   0          0     0      0          0        0   \n",
       "4723   0    0       0      0   0          0     0      0          0        0   \n",
       "4724   0    0       0      0   0          0     0      0          0        0   \n",
       "\n",
       "      ...  zombie  zone  zones  zoo  zoom  zoomed  봉사를  세계로  숭실  진리와  \n",
       "0     ...       0     0      0    0     0       0    0    0   0    0  \n",
       "1     ...       0     0      0    0     0       0    0    0   0    0  \n",
       "2     ...       0     0      0    0     0       0    0    0   0    0  \n",
       "3     ...       0     0      0    0     0       0    0    0   0    0  \n",
       "4     ...       0     0      0    0     0       0    0    0   0    0  \n",
       "...   ...     ...   ...    ...  ...   ...     ...  ...  ...  ..  ...  \n",
       "4720  ...       0     0      0    0     0       0    0    0   0    0  \n",
       "4721  ...       0     0      0    0     0       0    0    0   0    0  \n",
       "4722  ...       0     0      0    0     0       0    0    0   0    0  \n",
       "4723  ...       0     0      0    0     0       0    0    0   0    0  \n",
       "4724  ...       0     0      0    0     0       0    0    0   0    0  \n",
       "\n",
       "[4725 rows x 10109 columns]"
      ]
     },
     "execution_count": 86,
     "metadata": {},
     "output_type": "execute_result"
    }
   ],
   "source": [
    "uiuc_bow_df = pd.DataFrame(uiuc_bag_of_words.toarray(), columns=vectorizer.get_feature_names_out())\n",
    "uiuc_bow_df"
   ]
  },
  {
   "cell_type": "code",
   "execution_count": null,
   "metadata": {},
   "outputs": [
    {
     "data": {
      "image/png": "[encoded data removed]",
      "text/plain": [
       "<Figure size 2000x1000 with 1 Axes>"
      ]
     },
     "metadata": {},
     "output_type": "display_data"
    }
   ],
   "source": [
    "uiuc_word_counts = uiuc_bow_df.sum()\n",
    "uiuc_word_counts = uiuc_word_counts.sort_values(ascending=False)\n",
    "uiuc_word_counts = uiuc_word_counts.head(10)\n",
    "plt.figure(figsize=(20,10))\n",
    "plt.bar(uiuc_word_counts.index, uiuc_word_counts.values)\n",
    "plt.xticks(rotation=45)\n",
    "plt.show()\n"
   ]
  },
  {
   "cell_type": "code",
   "execution_count": null,
   "metadata": {},
   "outputs": [
    {
     "data": {
      "text/plain": [
       "<4725x3891 sparse matrix of type '<class 'numpy.int64'>'\n",
       "\twith 49429 stored elements in Compressed Sparse Row format>"
      ]
     },
     "execution_count": 88,
     "metadata": {},
     "output_type": "execute_result"
    }
   ],
   "source": [
    "uiuc['lemmatized_text'] = uiuc['cleaned_text'].apply(lemmatize)\n",
    "uiuc_vectorizer = CountVectorizer(min_df=3, max_df=0.3, ngram_range=(1,2))\n",
    "uiuc_bag_of_words = uiuc_vectorizer.fit_transform(uiuc['lemmatized_text'])\n",
    "uiuc_bag_of_words"
   ]
  },
  {
   "cell_type": "code",
   "execution_count": null,
   "metadata": {},
   "outputs": [
    {
     "data": {
      "text/plain": [
       "not               1205\n",
       "like               534\n",
       "people             481\n",
       "good               388\n",
       "time               376\n",
       "                  ... \n",
       "not personally       3\n",
       "not person           3\n",
       "not park             3\n",
       "not open             3\n",
       "ab                   3\n",
       "Length: 3891, dtype: int64"
      ]
     },
     "execution_count": 89,
     "metadata": {},
     "output_type": "execute_result"
    }
   ],
   "source": [
    "uiuc_bow_df = pd.DataFrame(uiuc_bag_of_words.toarray(), columns=uiuc_vectorizer.get_feature_names_out())\n",
    "uiuc_word_counts = uiuc_bow_df.sum()\n",
    "uiuc_word_counts = uiuc_word_counts.sort_values(ascending=False)\n",
    "uiuc_word_counts"
   ]
  },
  {
   "cell_type": "code",
   "execution_count": null,
   "metadata": {},
   "outputs": [
    {
     "data": {
      "image/png": "[encoded data removed]",
      "text/plain": [
       "<Figure size 2000x1000 with 1 Axes>"
      ]
     },
     "metadata": {},
     "output_type": "display_data"
    }
   ],
   "source": [
    "uiuc_word_counts = uiuc_word_counts / uiuc_word_counts.sum()\n",
    "uiuc_plot_list = uiuc_word_counts.head(10)\n",
    "plt.figure(figsize=(20,10))\n",
    "plt.bar(uiuc_plot_list.index, uiuc_plot_list.values)\n",
    "plt.xticks(rotation=45)\n",
    "plt.show()"
   ]
  },
  {
   "cell_type": "code",
   "execution_count": null,
   "metadata": {},
   "outputs": [
    {
     "data": {
      "image/png": "[encoded data removed]",
      "text/plain": [
       "<Figure size 2000x1000 with 1 Axes>"
      ]
     },
     "metadata": {},
     "output_type": "display_data"
    }
   ],
   "source": [
    "uiuc_plot_list=uiuc_word_counts[[\"history\", \"business\", \"computer science\", \"cs\", \"computer\"]]\n",
    "plt.figure(figsize=(20,10))\n",
    "plt.bar(uiuc_plot_list.index, uiuc_plot_list.values)\n",
    "plt.xticks(rotation=45)\n",
    "plt.show()"
   ]
  },
  {
   "cell_type": "code",
   "execution_count": null,
   "metadata": {},
   "outputs": [
    {
     "data": {
      "image/png": "[encoded data removed]",
      "text/plain": [
       "<Figure size 2000x1000 with 1 Axes>"
      ]
     },
     "metadata": {},
     "output_type": "display_data"
    }
   ],
   "source": [
    "uiuc_new_plot_list=uiuc_word_counts[[\"sleep\", \"social\", \"study\", \"stress\", \"happy\"]]\n",
    "plt.figure(figsize=(20,10))\n",
    "plt.bar(uiuc_new_plot_list.index, uiuc_new_plot_list.values)\n",
    "plt.xticks(rotation=45)\n",
    "plt.show()"
   ]
  },
  {
   "cell_type": "code",
   "execution_count": null,
   "metadata": {},
   "outputs": [
    {
     "data": {
      "text/plain": [
       "history             0.000352\n",
       "business            0.000600\n",
       "computer science    0.000034\n",
       "cs                  0.001228\n",
       "computer            0.000262\n",
       "dtype: float64"
      ]
     },
     "execution_count": 93,
     "metadata": {},
     "output_type": "execute_result"
    }
   ],
   "source": [
    "plot_list"
   ]
  },
  {
   "cell_type": "code",
   "execution_count": null,
   "metadata": {},
   "outputs": [
    {
     "data": {
      "image/png": "[encoded data removed]",
      "text/plain": [
       "<Figure size 1000x600 with 1 Axes>"
      ]
     },
     "metadata": {},
     "output_type": "display_data"
    }
   ],
   "source": [
    "num_items = len(plot_list)\n",
    "width = 0.35\n",
    "indices = np.arange(num_items)\n",
    "\n",
    "fig, ax = plt.subplots(figsize=(10,6))\n",
    "\n",
    "ax.bar(indices, plot_list, width=width, label='mich', align='center')\n",
    "\n",
    "ax.bar(indices + width, uiuc_plot_list, width=width, label='uiuc', align='center')\n",
    "\n",
    "ax.set_xlabel('Words')\n",
    "ax.set_ylabel('Count')\n",
    "ax.set_title('Word Frequency Comparison')\n",
    "ax.set_xticks(indices + width / 2)\n",
    "ax.set_xticklabels([\"history\", \"business\", \"computer science\", \"cs\", \"computer\"])\n",
    "\n",
    "ax.legend()\n",
    "\n",
    "plt.show()"
   ]
  },
  {
   "cell_type": "markdown",
   "metadata": {},
   "source": [
    "Those words usually are usually considered as subject names. By comparing the words, the word \"CS\" is being used for a significant higher frequency than other words in both uiuc and umich which means shows that either students in CS major are more active online or that cs major is a strong major in both schools. The second higher frequency word is \"business\" which means that business majors are also popular in both school, but umich as a slightly higher frequency than uiuc. "
   ]
  },
  {
   "cell_type": "code",
   "execution_count": null,
   "metadata": {},
   "outputs": [
    {
     "data": {
      "image/png": "[encoded data removed]",
      "text/plain": [
       "<Figure size 1000x600 with 1 Axes>"
      ]
     },
     "metadata": {},
     "output_type": "display_data"
    }
   ],
   "source": [
    "num_items = len(plot_list)\n",
    "width = 0.35\n",
    "indices = np.arange(num_items)\n",
    "\n",
    "fig, ax = plt.subplots(figsize=(10,6))\n",
    "\n",
    "ax.bar(indices, new_plot_list, width=width, label='mich', align='center')\n",
    "\n",
    "ax.bar(indices + width, uiuc_new_plot_list, width=width, label='uiuc', align='center')\n",
    "\n",
    "ax.set_xlabel('Words')\n",
    "ax.set_ylabel('Count')\n",
    "ax.set_title('Word Frequency Comparison')\n",
    "ax.set_xticks(indices + width / 2)\n",
    "ax.set_xticklabels([\"sleep\", \"social\", \"study\", \"stress\", \"happy\"])\n",
    "\n",
    "ax.legend()\n",
    "\n",
    "plt.show()"
   ]
  },
  {
   "cell_type": "markdown",
   "metadata": {},
   "source": [
    "For the other five words, I chose words that represents how students distribute their attention in daily life. The graph shows that umich students have a much higher frequency of using the word study and slightly higher use in stress, which might indicate that umich students have more workload. On the other hands, uiuc students seem to focus more on their social life comparing to umich students. "
   ]
  },
  {
   "cell_type": "markdown",
   "metadata": {},
   "source": [
    "### Problem 3: using the provided combined dataframe, train a logistic regression model using the sklearn Logistic Regression implementation. https://scikit-learn.org/stable/modules/generated/sklearn.linear_model.LogisticRegression.html. Create a bag of words table from the combined data, and use that along with the \"label\" column to train the classifier. Please try this out and be prepared with issues or questions next Monday. We will be discussing in class"
   ]
  },
  {
   "cell_type": "code",
   "execution_count": null,
   "metadata": {},
   "outputs": [
    {
     "data": {
      "text/html": [
       "<div>\n",
       "<style scoped>\n",
       "    .dataframe tbody tr th:only-of-type {\n",
       "        vertical-align: middle;\n",
       "    }\n",
       "\n",
       "    .dataframe tbody tr th {\n",
       "        vertical-align: top;\n",
       "    }\n",
       "\n",
       "    .dataframe thead th {\n",
       "        text-align: right;\n",
       "    }\n",
       "</style>\n",
       "<table border=\"1\" class=\"dataframe\">\n",
       "  <thead>\n",
       "    <tr style=\"text-align: right;\">\n",
       "      <th></th>\n",
       "      <th>Unnamed: 0</th>\n",
       "      <th>date</th>\n",
       "      <th>post_votes</th>\n",
       "      <th>text</th>\n",
       "      <th>user</th>\n",
       "      <th>com_votes</th>\n",
       "      <th>label</th>\n",
       "    </tr>\n",
       "  </thead>\n",
       "  <tbody>\n",
       "    <tr>\n",
       "      <th>0</th>\n",
       "      <td>0</td>\n",
       "      <td>2024-09-04 14:43:40</td>\n",
       "      <td>2</td>\n",
       "      <td>Have the same professor! And in lecture he did...</td>\n",
       "      <td>zhen3441</td>\n",
       "      <td>2</td>\n",
       "      <td>1</td>\n",
       "    </tr>\n",
       "    <tr>\n",
       "      <th>1</th>\n",
       "      <td>1</td>\n",
       "      <td>2024-09-04 14:43:40</td>\n",
       "      <td>2</td>\n",
       "      <td>Do you find it helpful to still go to the lect...</td>\n",
       "      <td>Kai2747</td>\n",
       "      <td>1</td>\n",
       "      <td>1</td>\n",
       "    </tr>\n",
       "    <tr>\n",
       "      <th>2</th>\n",
       "      <td>2</td>\n",
       "      <td>2024-09-04 12:52:08</td>\n",
       "      <td>3</td>\n",
       "      <td>Have you tried emailing University Housing to ...</td>\n",
       "      <td>TurboBKTastic</td>\n",
       "      <td>2</td>\n",
       "      <td>1</td>\n",
       "    </tr>\n",
       "    <tr>\n",
       "      <th>3</th>\n",
       "      <td>3</td>\n",
       "      <td>2024-09-04 12:52:08</td>\n",
       "      <td>3</td>\n",
       "      <td>Purchasing Illini Cash should get you added to...</td>\n",
       "      <td>HoosierCAB</td>\n",
       "      <td>2</td>\n",
       "      <td>1</td>\n",
       "    </tr>\n",
       "    <tr>\n",
       "      <th>4</th>\n",
       "      <td>4</td>\n",
       "      <td>2024-09-04 12:52:08</td>\n",
       "      <td>3</td>\n",
       "      <td>Just did, thanks for the suggestion! It hadn't...</td>\n",
       "      <td>Sector-Both</td>\n",
       "      <td>1</td>\n",
       "      <td>1</td>\n",
       "    </tr>\n",
       "    <tr>\n",
       "      <th>...</th>\n",
       "      <td>...</td>\n",
       "      <td>...</td>\n",
       "      <td>...</td>\n",
       "      <td>...</td>\n",
       "      <td>...</td>\n",
       "      <td>...</td>\n",
       "      <td>...</td>\n",
       "    </tr>\n",
       "    <tr>\n",
       "      <th>3653</th>\n",
       "      <td>3653</td>\n",
       "      <td>2024-08-17 05:47:52</td>\n",
       "      <td>40</td>\n",
       "      <td>💅🔨</td>\n",
       "      <td>tylerfioritto</td>\n",
       "      <td>5</td>\n",
       "      <td>0</td>\n",
       "    </tr>\n",
       "    <tr>\n",
       "      <th>5468</th>\n",
       "      <td>5468</td>\n",
       "      <td>2024-07-30 03:27:36</td>\n",
       "      <td>5</td>\n",
       "      <td>Depending on your location, you can also park ...</td>\n",
       "      <td>RunningEncyclopedia</td>\n",
       "      <td>1</td>\n",
       "      <td>0</td>\n",
       "    </tr>\n",
       "    <tr>\n",
       "      <th>606</th>\n",
       "      <td>606</td>\n",
       "      <td>2024-09-01 01:38:18</td>\n",
       "      <td>4</td>\n",
       "      <td>The biggest thing is repetition. Repetition is...</td>\n",
       "      <td>Subject_Willow</td>\n",
       "      <td>1</td>\n",
       "      <td>0</td>\n",
       "    </tr>\n",
       "    <tr>\n",
       "      <th>3733</th>\n",
       "      <td>3733</td>\n",
       "      <td>2024-08-16 15:41:51</td>\n",
       "      <td>10</td>\n",
       "      <td>I use a 529 to pay tuition as well! If you log...</td>\n",
       "      <td>Nin_cubed</td>\n",
       "      <td>28</td>\n",
       "      <td>0</td>\n",
       "    </tr>\n",
       "    <tr>\n",
       "      <th>7583</th>\n",
       "      <td>7583</td>\n",
       "      <td>2024-07-12 11:25:27</td>\n",
       "      <td>95</td>\n",
       "      <td>What ec's do you wish you had done?</td>\n",
       "      <td>Polarisin</td>\n",
       "      <td>3</td>\n",
       "      <td>0</td>\n",
       "    </tr>\n",
       "  </tbody>\n",
       "</table>\n",
       "<p>9450 rows × 7 columns</p>\n",
       "</div>"
      ],
      "text/plain": [
       "      Unnamed: 0                 date  post_votes  \\\n",
       "0              0  2024-09-04 14:43:40           2   \n",
       "1              1  2024-09-04 14:43:40           2   \n",
       "2              2  2024-09-04 12:52:08           3   \n",
       "3              3  2024-09-04 12:52:08           3   \n",
       "4              4  2024-09-04 12:52:08           3   \n",
       "...          ...                  ...         ...   \n",
       "3653        3653  2024-08-17 05:47:52          40   \n",
       "5468        5468  2024-07-30 03:27:36           5   \n",
       "606          606  2024-09-01 01:38:18           4   \n",
       "3733        3733  2024-08-16 15:41:51          10   \n",
       "7583        7583  2024-07-12 11:25:27          95   \n",
       "\n",
       "                                                   text                 user  \\\n",
       "0     Have the same professor! And in lecture he did...             zhen3441   \n",
       "1     Do you find it helpful to still go to the lect...              Kai2747   \n",
       "2     Have you tried emailing University Housing to ...        TurboBKTastic   \n",
       "3     Purchasing Illini Cash should get you added to...           HoosierCAB   \n",
       "4     Just did, thanks for the suggestion! It hadn't...          Sector-Both   \n",
       "...                                                 ...                  ...   \n",
       "3653                                                 💅🔨        tylerfioritto   \n",
       "5468  Depending on your location, you can also park ...  RunningEncyclopedia   \n",
       "606   The biggest thing is repetition. Repetition is...       Subject_Willow   \n",
       "3733  I use a 529 to pay tuition as well! If you log...            Nin_cubed   \n",
       "7583                What ec's do you wish you had done?            Polarisin   \n",
       "\n",
       "      com_votes  label  \n",
       "0             2      1  \n",
       "1             1      1  \n",
       "2             2      1  \n",
       "3             2      1  \n",
       "4             1      1  \n",
       "...         ...    ...  \n",
       "3653          5      0  \n",
       "5468          1      0  \n",
       "606           1      0  \n",
       "3733         28      0  \n",
       "7583          3      0  \n",
       "\n",
       "[9450 rows x 7 columns]"
      ]
     },
     "execution_count": 96,
     "metadata": {},
     "output_type": "execute_result"
    }
   ],
   "source": [
    "uiuc=pd.read_csv(\"uiuc.csv\")\n",
    "mich=pd.read_csv(\"umich.csv\")\n",
    "\n",
    "#sample so we have even number of samples from each dataset\n",
    "mich=mich.sample(n=4725)\n",
    "\n",
    "#assign labels based on origin subreddit of comment\n",
    "uiuc['label']=1\n",
    "mich['label']=0\n",
    "\n",
    "#you will be working with the data csv for the rest of the question\n",
    "data=pd.concat([uiuc,mich])\n",
    "data"
   ]
  },
  {
   "cell_type": "code",
   "execution_count": 121,
   "metadata": {},
   "outputs": [],
   "source": [
    "#clean and lemmatize the data csv\n",
    "data['cleaned_text'] = data['text'].apply(clean)\n",
    "data['lemmatized_text'] = data['cleaned_text'].apply(lemmatize)\n"
   ]
  },
  {
   "cell_type": "code",
   "execution_count": 130,
   "metadata": {},
   "outputs": [],
   "source": [
    "#create a bag of words representation with count vectorizer\n",
    "data_vectorizer = CountVectorizer(min_df=3, max_df=0.3, ngram_range=(1,2))\n",
    "data_bag_of_words = data_vectorizer.fit_transform(data['lemmatized_text'])\n",
    "X = data_bag_of_words\n",
    "y = data['label']\n",
    "\n"
   ]
  },
  {
   "cell_type": "code",
   "execution_count": 131,
   "metadata": {},
   "outputs": [],
   "source": [
    "#train a logistic regression model using the bag of words features as X and the label column as y\n",
    "from sklearn.linear_model import LogisticRegression\n",
    "from sklearn.model_selection import train_test_split\n",
    "from sklearn.metrics import accuracy_score\n",
    "from sklearn.model_selection import train_test_split\n",
    "X_train, X_test, y_train, y_test = train_test_split(X, y, test_size=0.2, random_state=42)\n",
    "model = LogisticRegression(max_iter=1000)\n",
    "model.fit(X_train, y_train)\n",
    "y_pred = model.predict(X_test)"
   ]
  },
  {
   "cell_type": "code",
   "execution_count": 133,
   "metadata": {},
   "outputs": [
    {
     "data": {
      "text/plain": [
       "0.7095238095238096"
      ]
     },
     "execution_count": 133,
     "metadata": {},
     "output_type": "execute_result"
    }
   ],
   "source": [
    "#report the accuracy of the model\n",
    "accuracy_score(y_test, y_pred)"
   ]
  },
  {
   "cell_type": "markdown",
   "metadata": {},
   "source": [
    "#### Part 2: hold out part of the dataset using sklearn train_test_split (https://scikit-learn.org/stable/modules/generated/sklearn.model_selection.train_test_split.html). Pass in your previously generated bag of words as X and the label column as y. Use only the X_train and y_train for training and hold out the X_test and y_test to score the model on unseen data."
   ]
  },
  {
   "cell_type": "code",
   "execution_count": 134,
   "metadata": {},
   "outputs": [
    {
     "name": "stdout",
     "output_type": "stream",
     "text": [
      "Accuracy of the model on the test set: 0.8973544973544973\n"
     ]
    }
   ],
   "source": [
    "# what is the accuracy of the model? Is it better or worse than previous?Why do you think it has changed? \n",
    "\n",
    "model.fit(data_bag_of_words, data['label'])\n",
    "y_pred = model.predict(X_test)\n",
    "accuracy = accuracy_score(y_test, y_pred)\n",
    "print(\"Accuracy of the model on the test set:\", accuracy)\n"
   ]
  },
  {
   "cell_type": "markdown",
   "metadata": {},
   "source": [
    "The accuracy is higher because the model has already captured the relationship and pattern between the bag of words and the label. "
   ]
  },
  {
   "cell_type": "markdown",
   "metadata": {},
   "source": [
    "#### Part 3: Examine the top features of your model using the following code"
   ]
  },
  {
   "cell_type": "code",
   "execution_count": 143,
   "metadata": {},
   "outputs": [
    {
     "name": "stdout",
     "output_type": "stream",
     "text": [
      "Top 10 Positive Coefficients:\n",
      "         Feature  Coefficient\n",
      "7633       uiuc     2.721112\n",
      "7740     urbana     2.215535\n",
      "3333   illinois     2.135898\n",
      "6159       rsos     2.104260\n",
      "3330     illini     2.005314\n",
      "2886   grainger     1.932471\n",
      "1540   danville     1.731389\n",
      "7496        tow     1.728654\n",
      "3732        las     1.691562\n",
      "951   champaign     1.688141\n",
      "\n",
      "Top 10 Negative Coefficients:\n",
      "        Feature  Coefficient\n",
      "4377  michigan    -3.053908\n",
      "7644     umich    -2.562929\n",
      "7639        um    -2.210392\n",
      "2518    fresno    -2.172743\n",
      "1970       eec    -2.141113\n",
      "4297     mcard    -2.065396\n",
      "6144      ross    -2.009997\n",
      "1716      diag    -1.947049\n",
      "7728      uofm    -1.897167\n",
      "438     august    -1.844764\n"
     ]
    }
   ],
   "source": [
    "#get the coefficients of the model and plot the top 10 most positive and top 10 most negative coefficients\n",
    "#what do you notice about these words? Are they surprising or expected?\n",
    "\n",
    "coefficients = model.coef_[0]\n",
    "X.columns = data_vectorizer.get_feature_names_out()\n",
    "coeff_df = pd.DataFrame({'Feature': feature_names, 'Coefficient': coefficients})\n",
    "\n",
    "top_10_positive = coeff_df.sort_values(by='Coefficient', ascending=False).head(10)\n",
    "top_10_negative = coeff_df.sort_values(by='Coefficient', ascending=True).head(10)\n",
    "print(\"Top 10 Positive Coefficients:\\n\", top_10_positive)\n",
    "print(\"\\nTop 10 Negative Coefficients:\\n\", top_10_negative)\n"
   ]
  },
  {
   "cell_type": "code",
   "execution_count": null,
   "metadata": {},
   "outputs": [],
   "source": [
    "#examine these words and see if they make sense. Do they differentiate UIUC from another university?\n",
    "Yes, the words seems to make sense because the words that have higher coefficients are related to either uiuc or the majors at uiuc. "
   ]
  },
  {
   "cell_type": "markdown",
   "metadata": {},
   "source": [
    "### Problem 4: Train a 10 topic topic model from the UIUC subreddit data using Gensim LDA. (https://radimrehurek.com/gensim/auto_examples/tutorials/run_lda.html) If you get here before Wednesday 9/11, don't rush to finish, but feel free to continue ahead. We will go through this in class. Print out the top words in each topic, and read through the words for each topic to decide the theme of the topic: remember this is subjective and there are no right or wrong answers. Print out a few comments with high frequencies of each topic and analyze if your topic labels were representative. "
   ]
  },
  {
   "cell_type": "code",
   "execution_count": 147,
   "metadata": {},
   "outputs": [
    {
     "name": "stdout",
     "output_type": "stream",
     "text": [
      "Requirement already satisfied: gensim in /Users/ashash/anaconda3/envs/is310/lib/python3.9/site-packages (4.3.3)\n",
      "Requirement already satisfied: numpy<2.0,>=1.18.5 in /Users/ashash/anaconda3/envs/is310/lib/python3.9/site-packages (from gensim) (1.26.4)\n",
      "Requirement already satisfied: scipy<1.14.0,>=1.7.0 in /Users/ashash/anaconda3/envs/is310/lib/python3.9/site-packages (from gensim) (1.12.0)\n",
      "Requirement already satisfied: smart-open>=1.8.1 in /Users/ashash/anaconda3/envs/is310/lib/python3.9/site-packages (from gensim) (5.2.1)\n"
     ]
    }
   ],
   "source": [
    "!pip install gensim"
   ]
  },
  {
   "cell_type": "code",
   "execution_count": 172,
   "metadata": {},
   "outputs": [],
   "source": [
    "from gensim import corpora\n",
    "from gensim.models import LdaModel\n",
    "from gensim.matutils import Sparse2Corpus\n",
    "\n",
    "corpus = Sparse2Corpus(uiuc_bag_of_words, documents_columns=False)\n",
    "\n",
    "id2word = dict((v, k) for k, v in vectorizer.vocabulary_.items())"
   ]
  },
  {
   "cell_type": "code",
   "execution_count": 173,
   "metadata": {},
   "outputs": [
    {
     "data": {
      "text/plain": [
       "<gensim.matutils.Sparse2Corpus at 0x7f85222c3e20>"
      ]
     },
     "execution_count": 173,
     "metadata": {},
     "output_type": "execute_result"
    }
   ],
   "source": [
    "corpus"
   ]
  },
  {
   "cell_type": "code",
   "execution_count": 164,
   "metadata": {},
   "outputs": [
    {
     "name": "stderr",
     "output_type": "stream",
     "text": [
      "2024-09-25 00:04:48,519 : INFO : using symmetric alpha at 0.1\n",
      "2024-09-25 00:04:48,522 : INFO : using symmetric eta at 0.1\n",
      "2024-09-25 00:04:48,525 : INFO : using serial LDA version on this node\n",
      "2024-09-25 00:04:48,538 : INFO : running online (single-pass) LDA training, 10 topics, 1 passes over the supplied corpus of 4725 documents, updating model once every 2000 documents, evaluating perplexity every 4725 documents, iterating 50x with a convergence threshold of 0.001000\n",
      "2024-09-25 00:04:48,539 : WARNING : too few updates, training might not converge; consider increasing the number of passes or iterations to improve accuracy\n",
      "2024-09-25 00:04:48,555 : INFO : PROGRESS: pass 0, at document #2000/4725\n",
      "2024-09-25 00:04:49,214 : INFO : merging changes from 2000 documents into a model of 4725 documents\n",
      "2024-09-25 00:04:49,221 : INFO : topic #5 (0.100): 0.013*\"friendship\" + 0.013*\"debug\" + 0.011*\"connected\" + 0.010*\"artwork\" + 0.009*\"canvasillinois\" + 0.007*\"guitar\" + 0.007*\"cases\" + 0.006*\"francisco\" + 0.005*\"doggos\" + 0.005*\"freaking\"\n",
      "2024-09-25 00:04:49,222 : INFO : topic #7 (0.100): 0.025*\"debug\" + 0.012*\"dishwasher\" + 0.012*\"cases\" + 0.009*\"connected\" + 0.007*\"guitar\" + 0.006*\"baseball\" + 0.006*\"buckle\" + 0.006*\"certification\" + 0.005*\"artwork\" + 0.005*\"finding\"\n",
      "2024-09-25 00:04:49,224 : INFO : topic #2 (0.100): 0.014*\"debug\" + 0.009*\"friendship\" + 0.009*\"connected\" + 0.007*\"games\" + 0.006*\"carle\" + 0.005*\"dishwasher\" + 0.005*\"bet\" + 0.005*\"dang\" + 0.004*\"freaking\" + 0.004*\"booster\"\n",
      "2024-09-25 00:04:49,225 : INFO : topic #3 (0.100): 0.026*\"debug\" + 0.011*\"community\" + 0.010*\"conversation\" + 0.009*\"dang\" + 0.008*\"espresso\" + 0.008*\"freaking\" + 0.007*\"dishwasher\" + 0.007*\"connected\" + 0.007*\"canvasillinois\" + 0.006*\"broaden\"\n",
      "2024-09-25 00:04:49,226 : INFO : topic #0 (0.100): 0.015*\"debug\" + 0.008*\"copied\" + 0.006*\"ate\" + 0.006*\"canvasillinois\" + 0.006*\"finding\" + 0.006*\"dishwasher\" + 0.006*\"dang\" + 0.006*\"cases\" + 0.005*\"discouraged\" + 0.005*\"games\"\n",
      "2024-09-25 00:04:49,226 : INFO : topic diff=8.178297, rho=1.000000\n",
      "2024-09-25 00:04:49,237 : INFO : PROGRESS: pass 0, at document #4000/4725\n",
      "2024-09-25 00:04:49,678 : INFO : merging changes from 2000 documents into a model of 4725 documents\n",
      "2024-09-25 00:04:49,683 : INFO : topic #8 (0.100): 0.021*\"debug\" + 0.010*\"community\" + 0.009*\"connected\" + 0.009*\"carle\" + 0.009*\"dishwasher\" + 0.008*\"freaking\" + 0.008*\"dang\" + 0.008*\"artwork\" + 0.008*\"gorgeous\" + 0.006*\"cases\"\n",
      "2024-09-25 00:04:49,684 : INFO : topic #6 (0.100): 0.026*\"connected\" + 0.018*\"fossils\" + 0.011*\"cooked\" + 0.010*\"debug\" + 0.009*\"canvasillinois\" + 0.008*\"begin\" + 0.008*\"dishwasher\" + 0.006*\"guitar\" + 0.006*\"cool\" + 0.006*\"baseball\"\n",
      "2024-09-25 00:04:49,685 : INFO : topic #7 (0.100): 0.024*\"debug\" + 0.012*\"cases\" + 0.012*\"dishwasher\" + 0.010*\"connected\" + 0.008*\"guitar\" + 0.007*\"baseball\" + 0.007*\"finding\" + 0.006*\"chewing\" + 0.006*\"discouraged\" + 0.006*\"buckle\"\n",
      "2024-09-25 00:04:49,687 : INFO : topic #0 (0.100): 0.013*\"debug\" + 0.009*\"blatantly\" + 0.008*\"discouraged\" + 0.008*\"copied\" + 0.007*\"finding\" + 0.007*\"countries\" + 0.006*\"hack\" + 0.006*\"canvasillinois\" + 0.006*\"connect\" + 0.005*\"genehttpsenmwikipediaorgwikiabcc\"\n",
      "2024-09-25 00:04:49,688 : INFO : topic #3 (0.100): 0.025*\"debug\" + 0.015*\"conversation\" + 0.013*\"community\" + 0.010*\"freaking\" + 0.008*\"dang\" + 0.007*\"broaden\" + 0.007*\"espresso\" + 0.007*\"canvasillinois\" + 0.007*\"groups\" + 0.006*\"connected\"\n",
      "2024-09-25 00:04:49,690 : INFO : topic diff=0.371661, rho=0.707107\n",
      "2024-09-25 00:04:49,935 : INFO : -9.030 per-word bound, 522.8 perplexity estimate based on a held-out corpus of 725 documents with 9291 words\n",
      "2024-09-25 00:04:49,936 : INFO : PROGRESS: pass 0, at document #4725/4725\n",
      "2024-09-25 00:04:50,085 : INFO : merging changes from 725 documents into a model of 4725 documents\n",
      "2024-09-25 00:04:50,091 : INFO : topic #8 (0.100): 0.020*\"debug\" + 0.012*\"carle\" + 0.011*\"dishwasher\" + 0.010*\"artwork\" + 0.009*\"community\" + 0.009*\"connected\" + 0.009*\"freaking\" + 0.008*\"dang\" + 0.008*\"dodgeball\" + 0.008*\"gorgeous\"\n",
      "2024-09-25 00:04:50,092 : INFO : topic #3 (0.100): 0.025*\"debug\" + 0.015*\"conversation\" + 0.014*\"freaking\" + 0.013*\"community\" + 0.010*\"broaden\" + 0.008*\"dang\" + 0.008*\"contactget\" + 0.008*\"governmentlike\" + 0.007*\"dishwasher\" + 0.006*\"america\"\n",
      "2024-09-25 00:04:50,093 : INFO : topic #9 (0.100): 0.015*\"finding\" + 0.014*\"alter\" + 0.008*\"buckle\" + 0.008*\"enterprises\" + 0.008*\"games\" + 0.007*\"clc\" + 0.007*\"crying\" + 0.007*\"exactly\" + 0.007*\"coke\" + 0.006*\"cases\"\n",
      "2024-09-25 00:04:50,094 : INFO : topic #0 (0.100): 0.040*\"governments\" + 0.011*\"folk\" + 0.010*\"bingo\" + 0.010*\"debug\" + 0.010*\"carle\" + 0.010*\"discouraged\" + 0.009*\"folks\" + 0.008*\"finding\" + 0.007*\"cases\" + 0.006*\"copied\"\n",
      "2024-09-25 00:04:50,096 : INFO : topic #5 (0.100): 0.016*\"friendship\" + 0.014*\"artwork\" + 0.012*\"debug\" + 0.009*\"connected\" + 0.009*\"canvasillinois\" + 0.007*\"guitar\" + 0.007*\"freaking\" + 0.006*\"eq\" + 0.006*\"applicants\" + 0.006*\"detected\"\n",
      "2024-09-25 00:04:50,096 : INFO : topic diff=0.342968, rho=0.577350\n",
      "2024-09-25 00:04:50,099 : INFO : LdaModel lifecycle event {'msg': 'trained LdaModel<num_terms=10109, num_topics=10, decay=0.5, chunksize=2000> in 1.56s', 'datetime': '2024-09-25T00:04:50.099110', 'gensim': '4.3.3', 'python': '3.9.19 (main, May  6 2024, 14:46:57) \\n[Clang 14.0.6 ]', 'platform': 'macOS-10.16-x86_64-i386-64bit', 'event': 'created'}\n",
      "2024-09-25 00:04:50,100 : INFO : topic #0 (0.100): 0.040*\"governments\" + 0.011*\"folk\" + 0.010*\"bingo\" + 0.010*\"debug\" + 0.010*\"carle\" + 0.010*\"discouraged\" + 0.009*\"folks\" + 0.008*\"finding\" + 0.007*\"cases\" + 0.006*\"copied\"\n",
      "2024-09-25 00:04:50,101 : INFO : topic #1 (0.100): 0.018*\"cafes\" + 0.013*\"debug\" + 0.012*\"dishwasher\" + 0.011*\"finding\" + 0.011*\"guitar\" + 0.009*\"ethnically\" + 0.009*\"carle\" + 0.008*\"broaden\" + 0.008*\"community\" + 0.007*\"cabinet\"\n",
      "2024-09-25 00:04:50,102 : INFO : topic #2 (0.100): 0.010*\"booster\" + 0.010*\"aoe\" + 0.010*\"debug\" + 0.008*\"gamemajor\" + 0.007*\"checkclean\" + 0.007*\"divestment\" + 0.006*\"freaking\" + 0.006*\"games\" + 0.006*\"carle\" + 0.006*\"bet\"\n",
      "2024-09-25 00:04:50,103 : INFO : topic #3 (0.100): 0.025*\"debug\" + 0.015*\"conversation\" + 0.014*\"freaking\" + 0.013*\"community\" + 0.010*\"broaden\" + 0.008*\"dang\" + 0.008*\"contactget\" + 0.008*\"governmentlike\" + 0.007*\"dishwasher\" + 0.006*\"america\"\n",
      "2024-09-25 00:04:50,116 : INFO : topic #4 (0.100): 0.037*\"debug\" + 0.008*\"friendship\" + 0.007*\"guitar\" + 0.007*\"connected\" + 0.007*\"games\" + 0.007*\"artwork\" + 0.007*\"canvasillinois\" + 0.007*\"enigma\" + 0.006*\"community\" + 0.006*\"dishwasher\"\n",
      "2024-09-25 00:04:50,122 : INFO : topic #5 (0.100): 0.016*\"friendship\" + 0.014*\"artwork\" + 0.012*\"debug\" + 0.009*\"connected\" + 0.009*\"canvasillinois\" + 0.007*\"guitar\" + 0.007*\"freaking\" + 0.006*\"eq\" + 0.006*\"applicants\" + 0.006*\"detected\"\n",
      "2024-09-25 00:04:50,125 : INFO : topic #6 (0.100): 0.026*\"fossils\" + 0.023*\"connected\" + 0.013*\"gouging\" + 0.011*\"collateral\" + 0.011*\"dishwasher\" + 0.009*\"arrest\" + 0.009*\"cooked\" + 0.008*\"debug\" + 0.008*\"canvasillinois\" + 0.008*\"grainger\"\n",
      "2024-09-25 00:04:50,128 : INFO : topic #7 (0.100): 0.022*\"debug\" + 0.017*\"dishwasher\" + 0.012*\"cases\" + 0.011*\"cafes\" + 0.010*\"baseball\" + 0.010*\"connected\" + 0.009*\"guitar\" + 0.009*\"buckle\" + 0.008*\"contamination\" + 0.008*\"finding\"\n",
      "2024-09-25 00:04:50,129 : INFO : topic #8 (0.100): 0.020*\"debug\" + 0.012*\"carle\" + 0.011*\"dishwasher\" + 0.010*\"artwork\" + 0.009*\"community\" + 0.009*\"connected\" + 0.009*\"freaking\" + 0.008*\"dang\" + 0.008*\"dodgeball\" + 0.008*\"gorgeous\"\n",
      "2024-09-25 00:04:50,134 : INFO : topic #9 (0.100): 0.015*\"finding\" + 0.014*\"alter\" + 0.008*\"buckle\" + 0.008*\"enterprises\" + 0.008*\"games\" + 0.007*\"clc\" + 0.007*\"crying\" + 0.007*\"exactly\" + 0.007*\"coke\" + 0.006*\"cases\"\n"
     ]
    },
    {
     "data": {
      "text/plain": [
       "[(0,\n",
       "  '0.040*\"governments\" + 0.011*\"folk\" + 0.010*\"bingo\" + 0.010*\"debug\" + 0.010*\"carle\" + 0.010*\"discouraged\" + 0.009*\"folks\" + 0.008*\"finding\" + 0.007*\"cases\" + 0.006*\"copied\"'),\n",
       " (1,\n",
       "  '0.018*\"cafes\" + 0.013*\"debug\" + 0.012*\"dishwasher\" + 0.011*\"finding\" + 0.011*\"guitar\" + 0.009*\"ethnically\" + 0.009*\"carle\" + 0.008*\"broaden\" + 0.008*\"community\" + 0.007*\"cabinet\"'),\n",
       " (2,\n",
       "  '0.010*\"booster\" + 0.010*\"aoe\" + 0.010*\"debug\" + 0.008*\"gamemajor\" + 0.007*\"checkclean\" + 0.007*\"divestment\" + 0.006*\"freaking\" + 0.006*\"games\" + 0.006*\"carle\" + 0.006*\"bet\"'),\n",
       " (3,\n",
       "  '0.025*\"debug\" + 0.015*\"conversation\" + 0.014*\"freaking\" + 0.013*\"community\" + 0.010*\"broaden\" + 0.008*\"dang\" + 0.008*\"contactget\" + 0.008*\"governmentlike\" + 0.007*\"dishwasher\" + 0.006*\"america\"'),\n",
       " (4,\n",
       "  '0.037*\"debug\" + 0.008*\"friendship\" + 0.007*\"guitar\" + 0.007*\"connected\" + 0.007*\"games\" + 0.007*\"artwork\" + 0.007*\"canvasillinois\" + 0.007*\"enigma\" + 0.006*\"community\" + 0.006*\"dishwasher\"'),\n",
       " (5,\n",
       "  '0.016*\"friendship\" + 0.014*\"artwork\" + 0.012*\"debug\" + 0.009*\"connected\" + 0.009*\"canvasillinois\" + 0.007*\"guitar\" + 0.007*\"freaking\" + 0.006*\"eq\" + 0.006*\"applicants\" + 0.006*\"detected\"'),\n",
       " (6,\n",
       "  '0.026*\"fossils\" + 0.023*\"connected\" + 0.013*\"gouging\" + 0.011*\"collateral\" + 0.011*\"dishwasher\" + 0.009*\"arrest\" + 0.009*\"cooked\" + 0.008*\"debug\" + 0.008*\"canvasillinois\" + 0.008*\"grainger\"'),\n",
       " (7,\n",
       "  '0.022*\"debug\" + 0.017*\"dishwasher\" + 0.012*\"cases\" + 0.011*\"cafes\" + 0.010*\"baseball\" + 0.010*\"connected\" + 0.009*\"guitar\" + 0.009*\"buckle\" + 0.008*\"contamination\" + 0.008*\"finding\"'),\n",
       " (8,\n",
       "  '0.020*\"debug\" + 0.012*\"carle\" + 0.011*\"dishwasher\" + 0.010*\"artwork\" + 0.009*\"community\" + 0.009*\"connected\" + 0.009*\"freaking\" + 0.008*\"dang\" + 0.008*\"dodgeball\" + 0.008*\"gorgeous\"'),\n",
       " (9,\n",
       "  '0.015*\"finding\" + 0.014*\"alter\" + 0.008*\"buckle\" + 0.008*\"enterprises\" + 0.008*\"games\" + 0.007*\"clc\" + 0.007*\"crying\" + 0.007*\"exactly\" + 0.007*\"coke\" + 0.006*\"cases\"')]"
      ]
     },
     "execution_count": 164,
     "metadata": {},
     "output_type": "execute_result"
    }
   ],
   "source": [
    "lda_model = LdaModel(corpus=corpus, id2word=id2word, num_topics=10)\n",
    "\n",
    "lda_model.print_topics()"
   ]
  },
  {
   "cell_type": "code",
   "execution_count": 170,
   "metadata": {},
   "outputs": [
    {
     "name": "stdout",
     "output_type": "stream",
     "text": [
      "Pm’d\n"
     ]
    }
   ],
   "source": [
    "import textwrap\n",
    "\n",
    "pd.set_option('display.max_colwidth', None)\n",
    "toprint = uiuc[\"text\"].iloc[30]\n",
    "wrapped_string = textwrap.fill(toprint, width=80)\n",
    "print(wrapped_string)"
   ]
  },
  {
   "cell_type": "code",
   "execution_count": 174,
   "metadata": {},
   "outputs": [
    {
     "data": {
      "text/plain": [
       "[(0, 0.1),\n",
       " (1, 0.1),\n",
       " (2, 0.1),\n",
       " (3, 0.1),\n",
       " (4, 0.1),\n",
       " (5, 0.1),\n",
       " (6, 0.1),\n",
       " (7, 0.1),\n",
       " (8, 0.1),\n",
       " (9, 0.1)]"
      ]
     },
     "execution_count": 174,
     "metadata": {},
     "output_type": "execute_result"
    }
   ],
   "source": [
    "lda_model.get_document_topics(corpus[30])"
   ]
  },
  {
   "cell_type": "code",
   "execution_count": 161,
   "metadata": {},
   "outputs": [],
   "source": [
    "models=lda_model.get_document_topics(corpus, minimum_probability=0)"
   ]
  },
  {
   "cell_type": "code",
   "execution_count": 175,
   "metadata": {},
   "outputs": [],
   "source": [
    "rows=[]\n",
    "for i in range(len(models)):\n",
    "    row=[]\n",
    "    for m in models[i]:\n",
    "        row.append(m[1])\n",
    "    rows.append(row)\n",
    "\n",
    "topic_df=pd.DataFrame(rows)"
   ]
  },
  {
   "cell_type": "code",
   "execution_count": 176,
   "metadata": {},
   "outputs": [
    {
     "data": {
      "text/html": [
       "<div>\n",
       "<style scoped>\n",
       "    .dataframe tbody tr th:only-of-type {\n",
       "        vertical-align: middle;\n",
       "    }\n",
       "\n",
       "    .dataframe tbody tr th {\n",
       "        vertical-align: top;\n",
       "    }\n",
       "\n",
       "    .dataframe thead th {\n",
       "        text-align: right;\n",
       "    }\n",
       "</style>\n",
       "<table border=\"1\" class=\"dataframe\">\n",
       "  <thead>\n",
       "    <tr style=\"text-align: right;\">\n",
       "      <th></th>\n",
       "      <th>0</th>\n",
       "      <th>1</th>\n",
       "      <th>2</th>\n",
       "      <th>3</th>\n",
       "      <th>4</th>\n",
       "      <th>5</th>\n",
       "      <th>6</th>\n",
       "      <th>7</th>\n",
       "      <th>8</th>\n",
       "      <th>9</th>\n",
       "    </tr>\n",
       "  </thead>\n",
       "  <tbody>\n",
       "    <tr>\n",
       "      <th>1669</th>\n",
       "      <td>0.004557</td>\n",
       "      <td>0.004558</td>\n",
       "      <td>0.004559</td>\n",
       "      <td>0.958983</td>\n",
       "      <td>0.004557</td>\n",
       "      <td>0.004557</td>\n",
       "      <td>0.004558</td>\n",
       "      <td>0.004557</td>\n",
       "      <td>0.004558</td>\n",
       "      <td>0.004557</td>\n",
       "    </tr>\n",
       "    <tr>\n",
       "      <th>1428</th>\n",
       "      <td>0.004585</td>\n",
       "      <td>0.004584</td>\n",
       "      <td>0.004587</td>\n",
       "      <td>0.958739</td>\n",
       "      <td>0.004584</td>\n",
       "      <td>0.004585</td>\n",
       "      <td>0.004584</td>\n",
       "      <td>0.004584</td>\n",
       "      <td>0.004584</td>\n",
       "      <td>0.004584</td>\n",
       "    </tr>\n",
       "    <tr>\n",
       "      <th>509</th>\n",
       "      <td>0.005559</td>\n",
       "      <td>0.005560</td>\n",
       "      <td>0.005559</td>\n",
       "      <td>0.949967</td>\n",
       "      <td>0.005559</td>\n",
       "      <td>0.005559</td>\n",
       "      <td>0.005559</td>\n",
       "      <td>0.005559</td>\n",
       "      <td>0.005559</td>\n",
       "      <td>0.005560</td>\n",
       "    </tr>\n",
       "    <tr>\n",
       "      <th>16</th>\n",
       "      <td>0.005571</td>\n",
       "      <td>0.005570</td>\n",
       "      <td>0.005573</td>\n",
       "      <td>0.949865</td>\n",
       "      <td>0.005570</td>\n",
       "      <td>0.005570</td>\n",
       "      <td>0.005571</td>\n",
       "      <td>0.005571</td>\n",
       "      <td>0.005570</td>\n",
       "      <td>0.005571</td>\n",
       "    </tr>\n",
       "    <tr>\n",
       "      <th>1888</th>\n",
       "      <td>0.005916</td>\n",
       "      <td>0.005915</td>\n",
       "      <td>0.005915</td>\n",
       "      <td>0.946760</td>\n",
       "      <td>0.005915</td>\n",
       "      <td>0.005915</td>\n",
       "      <td>0.005916</td>\n",
       "      <td>0.005915</td>\n",
       "      <td>0.005916</td>\n",
       "      <td>0.005916</td>\n",
       "    </tr>\n",
       "    <tr>\n",
       "      <th>...</th>\n",
       "      <td>...</td>\n",
       "      <td>...</td>\n",
       "      <td>...</td>\n",
       "      <td>...</td>\n",
       "      <td>...</td>\n",
       "      <td>...</td>\n",
       "      <td>...</td>\n",
       "      <td>...</td>\n",
       "      <td>...</td>\n",
       "      <td>...</td>\n",
       "    </tr>\n",
       "    <tr>\n",
       "      <th>5079</th>\n",
       "      <td>0.188922</td>\n",
       "      <td>0.077532</td>\n",
       "      <td>0.054354</td>\n",
       "      <td>0.000709</td>\n",
       "      <td>0.039656</td>\n",
       "      <td>0.195069</td>\n",
       "      <td>0.241351</td>\n",
       "      <td>0.000709</td>\n",
       "      <td>0.126706</td>\n",
       "      <td>0.074993</td>\n",
       "    </tr>\n",
       "    <tr>\n",
       "      <th>5420</th>\n",
       "      <td>0.211251</td>\n",
       "      <td>0.127921</td>\n",
       "      <td>0.144145</td>\n",
       "      <td>0.000664</td>\n",
       "      <td>0.020741</td>\n",
       "      <td>0.104170</td>\n",
       "      <td>0.269018</td>\n",
       "      <td>0.010268</td>\n",
       "      <td>0.021148</td>\n",
       "      <td>0.090675</td>\n",
       "    </tr>\n",
       "    <tr>\n",
       "      <th>1366</th>\n",
       "      <td>0.286674</td>\n",
       "      <td>0.426566</td>\n",
       "      <td>0.000572</td>\n",
       "      <td>0.000572</td>\n",
       "      <td>0.239071</td>\n",
       "      <td>0.000572</td>\n",
       "      <td>0.000572</td>\n",
       "      <td>0.000572</td>\n",
       "      <td>0.044255</td>\n",
       "      <td>0.000572</td>\n",
       "    </tr>\n",
       "    <tr>\n",
       "      <th>8004</th>\n",
       "      <td>0.208364</td>\n",
       "      <td>0.066217</td>\n",
       "      <td>0.383521</td>\n",
       "      <td>0.000524</td>\n",
       "      <td>0.135371</td>\n",
       "      <td>0.080693</td>\n",
       "      <td>0.000524</td>\n",
       "      <td>0.016640</td>\n",
       "      <td>0.038754</td>\n",
       "      <td>0.069392</td>\n",
       "    </tr>\n",
       "    <tr>\n",
       "      <th>5841</th>\n",
       "      <td>0.239519</td>\n",
       "      <td>0.094480</td>\n",
       "      <td>0.037080</td>\n",
       "      <td>0.000454</td>\n",
       "      <td>0.030623</td>\n",
       "      <td>0.027809</td>\n",
       "      <td>0.106157</td>\n",
       "      <td>0.028560</td>\n",
       "      <td>0.140174</td>\n",
       "      <td>0.295145</td>\n",
       "    </tr>\n",
       "  </tbody>\n",
       "</table>\n",
       "<p>9450 rows × 10 columns</p>\n",
       "</div>"
      ],
      "text/plain": [
       "             0         1         2         3         4         5         6  \\\n",
       "1669  0.004557  0.004558  0.004559  0.958983  0.004557  0.004557  0.004558   \n",
       "1428  0.004585  0.004584  0.004587  0.958739  0.004584  0.004585  0.004584   \n",
       "509   0.005559  0.005560  0.005559  0.949967  0.005559  0.005559  0.005559   \n",
       "16    0.005571  0.005570  0.005573  0.949865  0.005570  0.005570  0.005571   \n",
       "1888  0.005916  0.005915  0.005915  0.946760  0.005915  0.005915  0.005916   \n",
       "...        ...       ...       ...       ...       ...       ...       ...   \n",
       "5079  0.188922  0.077532  0.054354  0.000709  0.039656  0.195069  0.241351   \n",
       "5420  0.211251  0.127921  0.144145  0.000664  0.020741  0.104170  0.269018   \n",
       "1366  0.286674  0.426566  0.000572  0.000572  0.239071  0.000572  0.000572   \n",
       "8004  0.208364  0.066217  0.383521  0.000524  0.135371  0.080693  0.000524   \n",
       "5841  0.239519  0.094480  0.037080  0.000454  0.030623  0.027809  0.106157   \n",
       "\n",
       "             7         8         9  \n",
       "1669  0.004557  0.004558  0.004557  \n",
       "1428  0.004584  0.004584  0.004584  \n",
       "509   0.005559  0.005559  0.005560  \n",
       "16    0.005571  0.005570  0.005571  \n",
       "1888  0.005915  0.005916  0.005916  \n",
       "...        ...       ...       ...  \n",
       "5079  0.000709  0.126706  0.074993  \n",
       "5420  0.010268  0.021148  0.090675  \n",
       "1366  0.000572  0.044255  0.000572  \n",
       "8004  0.016640  0.038754  0.069392  \n",
       "5841  0.028560  0.140174  0.295145  \n",
       "\n",
       "[9450 rows x 10 columns]"
      ]
     },
     "execution_count": 176,
     "metadata": {},
     "output_type": "execute_result"
    }
   ],
   "source": [
    "topic_df.sort_values(3, ascending=False)"
   ]
  },
  {
   "cell_type": "code",
   "execution_count": 179,
   "metadata": {},
   "outputs": [
    {
     "name": "stdout",
     "output_type": "stream",
     "text": [
      "Also junior in compE (23 cuz i left the school for 2 years to do military\n",
      "service back home). Currently in very similar position. Feel free to dm!\n"
     ]
    }
   ],
   "source": [
    "import textwrap\n",
    "\n",
    "pd.set_option('display.max_colwidth', None)\n",
    "toprint=uiuc[\"text\"][1428]\n",
    "wrapped_string = textwrap.fill(toprint, width=80)\n",
    "print(wrapped_string)"
   ]
  },
  {
   "cell_type": "code",
   "execution_count": 182,
   "metadata": {},
   "outputs": [
    {
     "name": "stdout",
     "output_type": "stream",
     "text": [
      "Pretty sure they got disc drives and blank discs at Walmart. Look up a free cd\n",
      "burning software online and get mp3s of whatever songs you want on the cd and\n",
      "you should be set\n"
     ]
    }
   ],
   "source": [
    "pd.set_option('display.max_colwidth', None)\n",
    "toprint=uiuc[\"text\"][1669]\n",
    "wrapped_string = textwrap.fill(toprint, width=80)\n",
    "print(wrapped_string)"
   ]
  },
  {
   "cell_type": "code",
   "execution_count": 183,
   "metadata": {},
   "outputs": [
    {
     "name": "stdout",
     "output_type": "stream",
     "text": [
      "The company needs to start charging people for leaving them in places like this.\n",
      "Like $5 for every offense and raise it up after the 3rd time.\n"
     ]
    }
   ],
   "source": [
    "pd.set_option('display.max_colwidth', None)\n",
    "toprint=uiuc[\"text\"][509]\n",
    "wrapped_string = textwrap.fill(toprint, width=80)\n",
    "print(wrapped_string)"
   ]
  },
  {
   "cell_type": "markdown",
   "metadata": {},
   "source": []
  }
 ],
 "metadata": {
  "kernelspec": {
   "display_name": "is310",
   "language": "python",
   "name": "python3"
  },
  "language_info": {
   "codemirror_mode": {
    "name": "ipython",
    "version": 3
   },
   "file_extension": ".py",
   "mimetype": "text/x-python",
   "name": "python",
   "nbconvert_exporter": "python",
   "pygments_lexer": "ipython3",
   "version": "3.9.19"
  }
 },
 "nbformat": 4,
 "nbformat_minor": 2
}
